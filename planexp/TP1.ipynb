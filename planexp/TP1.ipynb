{
 "cells": [
  {
   "cell_type": "code",
   "execution_count": 1,
   "metadata": {},
   "outputs": [
    {
     "name": "stderr",
     "output_type": "stream",
     "text": [
      "┌ Info: Precompiling Plots [91a5bcdd-55d7-5caf-9e0b-520d859cae80]\n",
      "└ @ Base loading.jl:1423\n"
     ]
    }
   ],
   "source": [
    "using GaussianProcesses\n",
    "using Random\n",
    "using Plots  \n",
    "\n",
    "Random.seed!(2022)\n",
    "# Training data\n",
    "n = 10;                          #number of training points\n",
    "x = rand(Float64, n);              #predictors\n",
    "y = sin.(x) + 0.05*randn(n);   #regressors"
   ]
  },
  {
   "cell_type": "code",
   "execution_count": 2,
   "metadata": {},
   "outputs": [],
   "source": [
    "s = sqrt(1)\n",
    "l = 0.5\n",
    "mZero = MeanZero()                   #Zero mean function\n",
    "kern = SE(log(l),log(s))                   #Sqaured exponential kernel (note that hyperparameters are on the log scale)\n",
    "\n",
    "gp = GP(x,y,mZero,kern)"
   ]
  },
  {
   "cell_type": "code",
   "execution_count": null,
   "metadata": {},
   "outputs": [],
   "source": [
    "plot(gp; xlabel=\"x\", ylabel=\"y\", title=\"Gaussian process\", legend=false, fmt=:png)      # Plot the GP"
   ]
  },
  {
   "cell_type": "code",
   "execution_count": null,
   "metadata": {},
   "outputs": [],
   "source": []
  }
 ],
 "metadata": {
  "kernelspec": {
   "display_name": "Julia 1.7.3",
   "language": "julia",
   "name": "julia-1.7"
  },
  "language_info": {
   "file_extension": ".jl",
   "mimetype": "application/julia",
   "name": "julia",
   "version": "1.7.3"
  },
  "orig_nbformat": 4,
  "vscode": {
   "interpreter": {
    "hash": "05f45230792bdfd307d4dcbbc65ab81379b13bdf98eed7f408ac13096038b100"
   }
  }
 },
 "nbformat": 4,
 "nbformat_minor": 2
}
