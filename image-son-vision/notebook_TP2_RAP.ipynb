{
 "cells": [
  {
   "cell_type": "markdown",
   "metadata": {},
   "source": [
    "# TP4 : Reconnaissance de mots isolés par programmation dynamique (DTW)\n",
    "\n",
    "NOM - PRÉNOM :\n",
    "Déposer le notebook sur moodle à la fin de la séance."
   ]
  },
  {
   "cell_type": "code",
   "execution_count": 1,
   "metadata": {},
   "outputs": [],
   "source": [
    "import numpy as np\n",
    "from math import floor, inf, dist\n",
    "import scipy.io.wavfile as wav\n",
    "import os\n",
    "import matplotlib.pyplot as plt"
   ]
  },
  {
   "cell_type": "markdown",
   "metadata": {},
   "source": [
    "# Réutilisation de fonctions pour la lecture et la paramétrisation"
   ]
  },
  {
   "cell_type": "code",
   "execution_count": 2,
   "metadata": {},
   "outputs": [],
   "source": [
    "# Utiliser la fonction \"lecture\" permettant de lire un fichier son et de connaître ses caractéristiques \n",
    "# (fréquence d’échantillonnage, durée).\n",
    "\n",
    "# LECTURE d'un fichier Wave\n",
    "def lecture(fichier, nb_bits):\n",
    "    \n",
    "    # Charger un fichier audio\n",
    "    fs, sig = wav.read(fichier)\n",
    "    \n",
    "    # Normaliser le signal entre -1 et 1 pour éviter les dépassements dans les calculs\n",
    "    signal = sig / 2 ** (nb_bits - 1)\n",
    "    \n",
    "    # Durée du signal (en secondes)\n",
    "    duree = len(signal) / fs\n",
    "    \n",
    "    return signal, fs, duree\n"
   ]
  },
  {
   "cell_type": "code",
   "execution_count": 3,
   "metadata": {},
   "outputs": [],
   "source": [
    "# Utiliser la fonction \"parametrisation\" qui calcule les paramètres acoustiques\n",
    "# (coefficients cepstraux) d’un fichier sonore sur des fenêtres de taille \"taille_fenetre\" avec un\n",
    "# recouvrement de moitié .\n",
    "    \n",
    "# Calcul de \"nbe_coef\" coefficients cepstraux\n",
    "def parametrisation(signal, taille_fenetre, nbe_coef):\n",
    "    \n",
    "    # Initialisation de la matrice résultat\n",
    "    recouvrement = floor(taille_fenetre / 2)\n",
    "    nb_fen = floor((np.size(signal) - taille_fenetre) / recouvrement) + 1\n",
    "    mfcc = np.zeros((nb_fen, nbe_coef))\n",
    "    \n",
    "    # Calcul des MFCC\n",
    "    for fen in range(nb_fen):\n",
    "        p = fen * recouvrement\n",
    "        spectre = abs(np.fft.fft(np.multiply(signal[p:p + taille_fenetre], np.hamming(taille_fenetre))))\n",
    "        cepstre = np.fft.fft(np.log(spectre))\n",
    "        cc = cepstre[1:nbe_coef+1].real\n",
    "        mfcc[fen, :] = cc\n",
    "\n",
    "    return mfcc\n",
    "    "
   ]
  },
  {
   "cell_type": "code",
   "execution_count": 7,
   "metadata": {},
   "outputs": [],
   "source": [
    "# Ecrire votre fonction \"parametrisation_total\" (utilisant la fonction \"parametrisation\")\n",
    "# afin qu’elle permette de calculer les paramètres pour l’ensemble des fichiers d’un répertoire\n",
    "# \"rep_wav\" et de stocker les résultats dans un répertoire \"rep_mfcc\". Cette fonction renvoie\n",
    "# la liste des noms de fichiers traités.\n",
    "    \n",
    "# Fonction de paramétrisation totale --> tous les fichiers du répertoire 'WAV/APP'\n",
    "def parametrisation_total(nb_bits, taille_fenetre, nbe_coef, rep_wav, rep_mfcc):\n",
    "    "
   ]
  },
  {
   "cell_type": "markdown",
   "metadata": {},
   "source": [
    "# Programmation dynamique"
   ]
  },
  {
   "cell_type": "code",
   "execution_count": 8,
   "metadata": {},
   "outputs": [],
   "source": [
    "# Ecrire une fonction \"dtw\" qui prend deux arguments en entrée : la matrice de coefficients\n",
    "# cepstraux du signal à reconnaître (observation) et la matrice de coefficients cepstraux d'un\n",
    "# signal de référence. Cette fonction renvoie le coût normalisé.\n",
    "    \n",
    "# Calcul de la DTW entre deux vecteurs\n",
    "def dtw(mfcc_ref, mfcc_obs):\n",
    "    \n"
   ]
  },
  {
   "cell_type": "code",
   "execution_count": 9,
   "metadata": {},
   "outputs": [],
   "source": [
    "#Ecrire une fonction \"dtw_total\" (utilisant la fonction \"dtw\") qui calcule la DTW sur toutes\n",
    "# les observations (fichiers Wave) du répertoire \"rep_obs\" par rapport à toutes les références\n",
    "# (fichiers MFCC) du répertoire \"rep_ref\". Cette fonction renvoie une matrice de coûts de taille\n",
    "# nb_fichier_obs x nb_fichier_ref.\n",
    "\n",
    "# DTW sur toutes les observations par rapport à toutes les références\n",
    "def DTW_total(nb_bits, taille_fenetre, nbe_coef, rep_mfcc_ref, rep_wave_obs):\n",
    "    "
   ]
  },
  {
   "cell_type": "markdown",
   "metadata": {},
   "source": [
    "# Affichages et tests"
   ]
  },
  {
   "cell_type": "code",
   "execution_count": 14,
   "metadata": {},
   "outputs": [],
   "source": [
    "# Ecrire un programme principal qui lance les fonctions précédentes et affiche pour chaque\n",
    "# observation (mot inconnu), le mot le plus probable.\n",
    "\n",
    "# Initialisation\n",
    "q = 16\n",
    "taille_fenetre = 1024\n",
    "nbe_coef = 16\n",
    "rep_ref = 'SIGNAL/REF'\n",
    "rep_obs = 'SIGNAL/OBS'\n",
    "rep_mfcc = 'MFCC'\n"
   ]
  },
  {
   "cell_type": "code",
   "execution_count": 4,
   "metadata": {},
   "outputs": [],
   "source": [
    "# Paramétrisation des fichiers références\n",
    "\n",
    "# Test de la DTW\n",
    "\n",
    "\n"
   ]
  },
  {
   "cell_type": "code",
   "execution_count": 1,
   "metadata": {},
   "outputs": [],
   "source": [
    "# DTW sur toutes les observations par rapport à chaque référence\n",
    "\n",
    "# Affichage des couts\n",
    "\n"
   ]
  },
  {
   "cell_type": "code",
   "execution_count": 2,
   "metadata": {},
   "outputs": [],
   "source": [
    "\n",
    "# Affichage amélioré\n",
    "\n",
    "# Ajouter à votre programme principal, un affichage des coûts entre une observation et chaque\n",
    "# référence sous forme d'histogramme via la commande bar.\n",
    "# Calculer le score de reconnaissance.\n",
    "\n",
    "# Pour chaque observation, affichage des coûts (par rapport aux références) sous forme d'histogramme\n",
    "\n"
   ]
  },
  {
   "cell_type": "code",
   "execution_count": 3,
   "metadata": {},
   "outputs": [],
   "source": [
    "# Affichage score final\n"
   ]
  },
  {
   "cell_type": "code",
   "execution_count": null,
   "metadata": {},
   "outputs": [],
   "source": [
    "# Autres tests \n",
    "# Tests\n",
    "# Bien  videmment, afin d’am liorer les r sultats, vous pourrez modifier :\n",
    "# - le nombre de param tres (coefficients cepstraux) : nbe_coef,\n",
    "# - la taille de la fen tre d’analyse : taille_fenetre,\n",
    "# ET TESTER AVEC VOS PROPRES ENREGISTREMENTS !"
   ]
  }
 ],
 "metadata": {
  "kernelspec": {
   "display_name": "Python 3",
   "language": "python",
   "name": "python3"
  },
  "language_info": {
   "codemirror_mode": {
    "name": "ipython",
    "version": 3
   },
   "file_extension": ".py",
   "mimetype": "text/x-python",
   "name": "python",
   "nbconvert_exporter": "python",
   "pygments_lexer": "ipython3",
   "version": "3.9.4"
  }
 },
 "nbformat": 4,
 "nbformat_minor": 4
}
