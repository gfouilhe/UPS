{
 "cells": [
  {
   "attachments": {},
   "cell_type": "markdown",
   "metadata": {},
   "source": [
    "# TP4 : Reconnaissance de mots isolés par programmation dynamique (DTW)\n",
    "\n",
    "FOUILHE Guilhem"
   ]
  },
  {
   "cell_type": "code",
   "execution_count": 24,
   "metadata": {},
   "outputs": [],
   "source": [
    "import numpy as np\n",
    "from math import floor, inf, dist\n",
    "import scipy.io.wavfile as wav\n",
    "import os\n",
    "import matplotlib.pyplot as plt"
   ]
  },
  {
   "cell_type": "markdown",
   "metadata": {},
   "source": [
    "# Réutilisation de fonctions pour la lecture et la paramétrisation"
   ]
  },
  {
   "cell_type": "code",
   "execution_count": 25,
   "metadata": {},
   "outputs": [],
   "source": [
    "# LECTURE d'un fichier Wave\n",
    "def lecture(fichier, nb_bits):\n",
    "    \n",
    "    # Charger un fichier audio\n",
    "    fs, sig = wav.read(fichier)\n",
    "    \n",
    "    # Normaliser le signal entre -1 et 1 pour éviter les dépassements dans les calculs\n",
    "    signal = sig / 2 ** (nb_bits - 1)\n",
    "    \n",
    "    # Durée du signal (en secondes)\n",
    "    duree = len(signal) / fs\n",
    "    \n",
    "    return signal, fs, duree\n"
   ]
  },
  {
   "cell_type": "code",
   "execution_count": 26,
   "metadata": {},
   "outputs": [
    {
     "ename": "FileNotFoundError",
     "evalue": "[Errno 2] No such file or directory: 'test3.wav'",
     "output_type": "error",
     "traceback": [
      "\u001b[1;31m---------------------------------------------------------------------------\u001b[0m",
      "\u001b[1;31mFileNotFoundError\u001b[0m                         Traceback (most recent call last)",
      "\u001b[1;32mc:\\GitHub Repos\\ups\\image-son-vision\\Annexes-20230103\\notebook_TP2_RAP.ipynb Cell 5\u001b[0m in \u001b[0;36m<cell line: 1>\u001b[1;34m()\u001b[0m\n\u001b[1;32m----> <a href='vscode-notebook-cell:/c%3A/GitHub%20Repos/ups/image-son-vision/Annexes-20230103/notebook_TP2_RAP.ipynb#X35sZmlsZQ%3D%3D?line=0'>1</a>\u001b[0m wav_file \u001b[39m=\u001b[39m lecture(\u001b[39mf\u001b[39;49m\u001b[39m\"\u001b[39;49m\u001b[39mtest3.wav\u001b[39;49m\u001b[39m\"\u001b[39;49m, \u001b[39m16\u001b[39;49m)\n\u001b[0;32m      <a href='vscode-notebook-cell:/c%3A/GitHub%20Repos/ups/image-son-vision/Annexes-20230103/notebook_TP2_RAP.ipynb#X35sZmlsZQ%3D%3D?line=1'>2</a>\u001b[0m \u001b[39mprint\u001b[39m(\u001b[39mf\u001b[39m\u001b[39m\"\u001b[39m\u001b[39mFréquence d\u001b[39m\u001b[39m'\u001b[39m\u001b[39méchantillonage (Hz) : \u001b[39m\u001b[39m{\u001b[39;00mwav_file[\u001b[39m1\u001b[39m]\u001b[39m}\u001b[39;00m\u001b[39m\\n\u001b[39;00m\u001b[39mDurée (s): \u001b[39m\u001b[39m{\u001b[39;00mwav_file[\u001b[39m2\u001b[39m]\u001b[39m}\u001b[39;00m\u001b[39m\"\u001b[39m)\n",
      "\u001b[1;32mc:\\GitHub Repos\\ups\\image-son-vision\\Annexes-20230103\\notebook_TP2_RAP.ipynb Cell 5\u001b[0m in \u001b[0;36mlecture\u001b[1;34m(fichier, nb_bits)\u001b[0m\n\u001b[0;32m      <a href='vscode-notebook-cell:/c%3A/GitHub%20Repos/ups/image-son-vision/Annexes-20230103/notebook_TP2_RAP.ipynb#X35sZmlsZQ%3D%3D?line=1'>2</a>\u001b[0m \u001b[39mdef\u001b[39;00m \u001b[39mlecture\u001b[39m(fichier, nb_bits):\n\u001b[0;32m      <a href='vscode-notebook-cell:/c%3A/GitHub%20Repos/ups/image-son-vision/Annexes-20230103/notebook_TP2_RAP.ipynb#X35sZmlsZQ%3D%3D?line=2'>3</a>\u001b[0m     \n\u001b[0;32m      <a href='vscode-notebook-cell:/c%3A/GitHub%20Repos/ups/image-son-vision/Annexes-20230103/notebook_TP2_RAP.ipynb#X35sZmlsZQ%3D%3D?line=3'>4</a>\u001b[0m     \u001b[39m# Charger un fichier audio\u001b[39;00m\n\u001b[1;32m----> <a href='vscode-notebook-cell:/c%3A/GitHub%20Repos/ups/image-son-vision/Annexes-20230103/notebook_TP2_RAP.ipynb#X35sZmlsZQ%3D%3D?line=4'>5</a>\u001b[0m     fs, sig \u001b[39m=\u001b[39m wav\u001b[39m.\u001b[39;49mread(fichier)\n\u001b[0;32m      <a href='vscode-notebook-cell:/c%3A/GitHub%20Repos/ups/image-son-vision/Annexes-20230103/notebook_TP2_RAP.ipynb#X35sZmlsZQ%3D%3D?line=6'>7</a>\u001b[0m     \u001b[39m# Normaliser le signal entre -1 et 1 pour éviter les dépassements dans les calculs\u001b[39;00m\n\u001b[0;32m      <a href='vscode-notebook-cell:/c%3A/GitHub%20Repos/ups/image-son-vision/Annexes-20230103/notebook_TP2_RAP.ipynb#X35sZmlsZQ%3D%3D?line=7'>8</a>\u001b[0m     signal \u001b[39m=\u001b[39m sig \u001b[39m/\u001b[39m \u001b[39m2\u001b[39m \u001b[39m*\u001b[39m\u001b[39m*\u001b[39m (nb_bits \u001b[39m-\u001b[39m \u001b[39m1\u001b[39m)\n",
      "File \u001b[1;32mc:\\Users\\guilh\\AppData\\Local\\Programs\\Python\\Python310\\lib\\site-packages\\scipy\\io\\wavfile.py:647\u001b[0m, in \u001b[0;36mread\u001b[1;34m(filename, mmap)\u001b[0m\n\u001b[0;32m    645\u001b[0m     mmap \u001b[39m=\u001b[39m \u001b[39mFalse\u001b[39;00m\n\u001b[0;32m    646\u001b[0m \u001b[39melse\u001b[39;00m:\n\u001b[1;32m--> 647\u001b[0m     fid \u001b[39m=\u001b[39m \u001b[39mopen\u001b[39;49m(filename, \u001b[39m'\u001b[39;49m\u001b[39mrb\u001b[39;49m\u001b[39m'\u001b[39;49m)\n\u001b[0;32m    649\u001b[0m \u001b[39mtry\u001b[39;00m:\n\u001b[0;32m    650\u001b[0m     file_size, is_big_endian \u001b[39m=\u001b[39m _read_riff_chunk(fid)\n",
      "\u001b[1;31mFileNotFoundError\u001b[0m: [Errno 2] No such file or directory: 'test3.wav'"
     ]
    }
   ],
   "source": [
    "wav_file = lecture(f\"test3.wav\", 16)\n",
    "print(f\"Fréquence d'échantillonage (Hz) : {wav_file[1]}\\nDurée (s): {wav_file[2]}\")"
   ]
  },
  {
   "cell_type": "code",
   "execution_count": null,
   "metadata": {},
   "outputs": [],
   "source": [
    "OBS_DIR = \"./SIGNAL/OBS\"\n",
    "REF_DIR = \"./SIGNAL/REF\""
   ]
  },
  {
   "cell_type": "code",
   "execution_count": 27,
   "metadata": {},
   "outputs": [],
   "source": [
    "# Calcul de \"nbe_coef\" coefficients cepstraux\n",
    "def parametrisation(signal, taille_fenetre, nbe_coef):\n",
    "    \n",
    "    # Initialisation de la matrice résultat\n",
    "    recouvrement = floor(taille_fenetre / 2)\n",
    "    nb_fen = floor((np.size(signal) - taille_fenetre) / recouvrement) + 1\n",
    "    mfcc = np.zeros((nb_fen, nbe_coef))\n",
    "    \n",
    "    # Calcul des MFCC\n",
    "    for fen in range(nb_fen):\n",
    "        p = fen * recouvrement\n",
    "        spectre = abs(np.fft.fft(np.multiply(signal[p:p + taille_fenetre], np.hamming(taille_fenetre))))\n",
    "        cepstre = np.fft.fft(np.log(spectre))\n",
    "        cc = cepstre[1:nbe_coef+1].real\n",
    "        mfcc[fen, :] = cc\n",
    "\n",
    "    return mfcc"
   ]
  },
  {
   "cell_type": "code",
   "execution_count": 28,
   "metadata": {},
   "outputs": [],
   "source": [
    "# Fonction de paramétrisation totale --> tous les fichiers du répertoire 'WAV/APP'\n",
    "def parametrisation_total(nb_bits, taille_fenetre, nbe_coef, rep_wav, rep_mfcc):\n",
    "        # Initialisation de la liste des fichiers traités\n",
    "        liste_fichiers = []\n",
    "        \n",
    "        # Parcours de tous les fichiers du répertoire\n",
    "        for fichier in np.sort(os.listdir(rep_wav)): # Sort pour avoir les fichiers dans l'ordre alphabétique\n",
    "            \n",
    "            # Lecture du fichier\n",
    "            signal, fs, duree = lecture(f\"{rep_wav}/{fichier}\", nb_bits)\n",
    "            \n",
    "            # Paramétrisation du fichier\n",
    "            mfcc = parametrisation(signal, taille_fenetre, nbe_coef)\n",
    "            \n",
    "            # Sauvegarde du fichier\n",
    "            mfcc_name = fichier.split(\".\")[0] # Nom du fichier sans l'extension\n",
    "            np.save(f\"{rep_mfcc}/{mfcc_name}\", mfcc)\n",
    "            \n",
    "            # Ajout du fichier à la liste\n",
    "            liste_fichiers.append(fichier)\n",
    "    \n",
    "        return liste_fichiers\n",
    "    "
   ]
  },
  {
   "cell_type": "code",
   "execution_count": 29,
   "metadata": {},
   "outputs": [
    {
     "name": "stdout",
     "output_type": "stream",
     "text": [
      "Noms des fichiers traités : ['alpha.wav', 'bravo.wav', 'charlie.wav', 'delta.wav', 'echo.wav', 'foxtrott.wav', 'golf.wav', 'hotel.wav', 'india.wav', 'juliett.wav', 'kilo.wav', 'lima.wav', 'mike.wav']\n",
      "Nombre de fichiers traités : 13\n"
     ]
    }
   ],
   "source": [
    "MFCC_DIR = \"MFCC\"\n",
    "if not os.path.exists(MFCC_DIR):\n",
    "    os.mkdir(MFCC_DIR)\n",
    "\n",
    "# Exemple :\n",
    "taille_fenetre = 320\n",
    "nbe_coef = 12\n",
    "liste_fichiers = parametrisation_total(16, taille_fenetre, nbe_coef, OBS_DIR, MFCC_DIR)\n",
    "print(f\"Noms des fichiers traités : {liste_fichiers}\")\n",
    "print(f\"Nombre de fichiers traités : {len(liste_fichiers)}\")"
   ]
  },
  {
   "cell_type": "markdown",
   "metadata": {},
   "source": [
    "# Programmation dynamique"
   ]
  },
  {
   "cell_type": "code",
   "execution_count": 30,
   "metadata": {},
   "outputs": [],
   "source": [
    "# Calcul de la DTW entre deux vecteurs\n",
    "def dtw(mfcc_ref, mfcc_obs):\n",
    "        \n",
    "        # Initialisation de la matrice de coût\n",
    "        nb_fen_ref = mfcc_ref.shape[0]\n",
    "        nb_fen_obs = mfcc_obs.shape[0]\n",
    "        matrice_cout = np.zeros((nb_fen_ref+1, nb_fen_obs+1))\n",
    "        matrice_cout[0, 1:] = np.inf\n",
    "        matrice_cout[1:, 0] = np.inf\n",
    "\n",
    "        # Calcul de la matrice de coût\n",
    "        for i in range(1, nb_fen_ref+1):\n",
    "            for j in range(1, nb_fen_obs+1):\n",
    "                d_ij = np.linalg.norm(mfcc_ref[i-1, :] - mfcc_obs[j-1, :])\n",
    "                matrice_cout[i, j] = np.min([matrice_cout[i-1, j]+1*d_ij, matrice_cout[i, j-1]+1*d_ij, matrice_cout[i-1, j-1]+2*d_ij]) \n",
    "        \n",
    "        # Calcul du coût normalisé\n",
    "        cout_normalise = matrice_cout[nb_fen_ref, nb_fen_obs] / (nb_fen_ref + nb_fen_obs)\n",
    "        return cout_normalise"
   ]
  },
  {
   "cell_type": "code",
   "execution_count": 31,
   "metadata": {},
   "outputs": [],
   "source": [
    "# DTW sur toutes les observations par rapport à toutes les références\n",
    "def DTW_total(nb_bits, taille_fenetre, nbe_coef, rep_mfcc_ref, rep_wave_obs):\n",
    "        \n",
    "        # Initialisation de la matrice de coûts\n",
    "        nb_fichier_ref = len(os.listdir(rep_mfcc_ref))\n",
    "        nb_fichier_obs = len(os.listdir(rep_wave_obs))\n",
    "        matrice_cout = np.zeros((nb_fichier_obs, nb_fichier_ref))\n",
    "        \n",
    "        # Calcul de la matrice de coûts\n",
    "        for i, obs_file_name in enumerate(np.sort(os.listdir(rep_wave_obs))): # Sort pour avoir les fichiers dans l'ordre alphabétique\n",
    "            # Lecture de l'observation\n",
    "            signal_obs, fs_obs, duree_obs = lecture(f\"{rep_wave_obs}/{obs_file_name}\", nb_bits)\n",
    "            \n",
    "            # Paramétrisation de l'observation\n",
    "            mfcc_obs = parametrisation(signal_obs, taille_fenetre, nbe_coef)\n",
    "            \n",
    "            for j, ref_file_name in enumerate(np.sort(os.listdir(rep_mfcc_ref))):\n",
    "                # Lecture de la référence\n",
    "                mfcc_ref = np.load(f\"{rep_mfcc_ref}/{ref_file_name}\")\n",
    "                \n",
    "                # Calcul de la DTW\n",
    "                matrice_cout[i, j] = dtw(mfcc_ref, mfcc_obs)\n",
    "        \n",
    "        return matrice_cout"
   ]
  },
  {
   "cell_type": "markdown",
   "metadata": {},
   "source": [
    "# Affichages et tests"
   ]
  },
  {
   "cell_type": "code",
   "execution_count": 32,
   "metadata": {},
   "outputs": [],
   "source": [
    "# Initialisation\n",
    "q = 16\n",
    "taille_fenetre = 1024\n",
    "nbe_coef = 16\n",
    "rep_ref = 'SIGNAL/REF'\n",
    "rep_obs = 'TEST'\n",
    "rep_mfcc = 'MFCC'"
   ]
  },
  {
   "cell_type": "code",
   "execution_count": 33,
   "metadata": {},
   "outputs": [],
   "source": [
    "# Paramétrisation des fichiers références\n",
    "liste_fichiers_ref = parametrisation_total(q, taille_fenetre, nbe_coef, rep_ref, rep_mfcc)"
   ]
  },
  {
   "cell_type": "code",
   "execution_count": 34,
   "metadata": {},
   "outputs": [
    {
     "name": "stdout",
     "output_type": "stream",
     "text": [
      "[[495.28069458 546.21136138 675.23565057 502.80348159 601.6595245\n",
      "  433.95523475 582.61650337 590.64487657 570.76951025 556.5341464\n",
      "  595.10765131 555.51406836 529.43622093]]\n"
     ]
    }
   ],
   "source": [
    "# DTW sur toutes les observations par rapport à chaque référence\n",
    "matrice_cout = DTW_total(q, taille_fenetre, nbe_coef, rep_mfcc, rep_obs)\n",
    "# Affichage des couts\n",
    "print(matrice_cout)"
   ]
  },
  {
   "cell_type": "code",
   "execution_count": 35,
   "metadata": {},
   "outputs": [
    {
     "data": {
      "image/png": "[encoded data removed]",
      "text/plain": [
       "<Figure size 640x480 with 1 Axes>"
      ]
     },
     "metadata": {},
     "output_type": "display_data"
    }
   ],
   "source": [
    "# Affichage amélioré\n",
    "for i, obs_file_name in enumerate(np.sort(os.listdir(rep_obs))):\n",
    "    plt.figure()\n",
    "    plt.bar(np.sort(os.listdir(rep_ref)), matrice_cout[i, :])\n",
    "    plt.title(f\"Coûts entre {obs_file_name} et les références\")\n",
    "    plt.xticks(rotation=90)\n",
    "    plt.xlabel(\"Références\")\n",
    "    plt.ylabel(\"Coûts\")\n",
    "    plt.show()\n"
   ]
  }
 ],
 "metadata": {
  "kernelspec": {
   "display_name": "Python 3",
   "language": "python",
   "name": "python3"
  },
  "language_info": {
   "codemirror_mode": {
    "name": "ipython",
    "version": 3
   },
   "file_extension": ".py",
   "mimetype": "text/x-python",
   "name": "python",
   "nbconvert_exporter": "python",
   "pygments_lexer": "ipython3",
   "version": "3.10.6"
  },
  "vscode": {
   "interpreter": {
    "hash": "d776b604cc3904292aea37f4daa2a46de34e87e5ec4d2ed68e9e515ab9feb7f7"
   }
  }
 },
 "nbformat": 4,
 "nbformat_minor": 4
}
