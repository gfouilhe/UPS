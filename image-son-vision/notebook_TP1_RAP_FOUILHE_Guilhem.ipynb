{
 "cells": [
  {
   "cell_type": "markdown",
   "metadata": {},
   "source": [
    "# TP1 : Classification de voyelles par lois gaussiennes\n",
    "NOM - PRÉNOM : FOUILHE - Guilhem\n",
    "\n",
    "Déposer le notebook sur Moodle à la fin de la séance"
   ]
  },
  {
   "cell_type": "markdown",
   "metadata": {},
   "source": [
    "### Vérification des données\n"
   ]
  },
  {
   "cell_type": "code",
   "execution_count": 1,
   "metadata": {},
   "outputs": [],
   "source": [
    "import pickle\n",
    "import matplotlib.pyplot as plt\n",
    "import numpy as np"
   ]
  },
  {
   "cell_type": "code",
   "execution_count": 10,
   "metadata": {},
   "outputs": [
    {
     "data": {
      "text/plain": [
       "(80, 2)"
      ]
     },
     "execution_count": 10,
     "metadata": {},
     "output_type": "execute_result"
    }
   ],
   "source": [
    "#1- Charger les données d'apprentissage avec le code suivant :\n",
    "f = open('APP.pkl', 'rb')\n",
    "dicoAPP = pickle.load(f)\n",
    "app_aa = dicoAPP[\"aa\"]\n",
    "app_ii = dicoAPP[\"ii\"]\n",
    "app_uu = dicoAPP[\"uu\"]\n",
    "f.close()\n",
    "\n",
    "f = open('EVAL.pkl', 'rb')\n",
    "dicoEVAL = pickle.load(f)\n",
    "eval_aa = dicoEVAL[\"aa\"]\n",
    "eval_ii = dicoEVAL[\"ii\"]\n",
    "eval_uu = dicoEVAL[\"uu\"]\n",
    "f.close()\n",
    "\n",
    "# Vérifier le contenu et la taille des matrices\n",
    "app_aa.shape\n",
    "# Il s'agit de matrices 80x2 résultant d'une ACP sur une paramétrisation cepstrale (cf. cours M1 !)."
   ]
  },
  {
   "cell_type": "markdown",
   "metadata": {},
   "source": [
    "### Utilisation de lois gaussiennes"
   ]
  },
  {
   "cell_type": "code",
   "execution_count": 12,
   "id": "406014c2",
   "metadata": {},
   "outputs": [
    {
     "name": "stdout",
     "output_type": "stream",
     "text": [
      "(80, 80)\n"
     ]
    }
   ],
   "source": [
    "print(np.cov(app_aa).shape)"
   ]
  },
  {
   "cell_type": "code",
   "execution_count": 13,
   "metadata": {},
   "outputs": [
    {
     "name": "stdout",
     "output_type": "stream",
     "text": [
      "Dimensions (moyenne, covariance) :  (2,)   (2, 2)\n"
     ]
    }
   ],
   "source": [
    "#3- APPRENTISSAGE : estimer les paramètres (moyenne et matrice de covariance) de chaque classe\n",
    "# Quelles sont les dimensions des variables crées ; que contiennent-elles ? \n",
    "\n",
    "def MeanAndCov(app):\n",
    "    mean = np.mean(app,axis=0)\n",
    "    cov = np.cov(app,rowvar=False)\n",
    "    return mean, cov\n",
    "\n",
    "mean_aa, cov_aa = MeanAndCov(app_aa)\n",
    "\n",
    "mean_uu, cov_uu = MeanAndCov(app_uu)\n",
    "\n",
    "mean_ii, cov_ii = MeanAndCov(app_ii)\n",
    "\n",
    "print(\"Dimensions (moyenne, covariance) : \",mean_aa.shape, \" \", cov_aa.shape)"
   ]
  },
  {
   "cell_type": "code",
   "execution_count": 14,
   "metadata": {},
   "outputs": [
    {
     "data": {
      "text/plain": [
       "'aa'"
      ]
     },
     "execution_count": 14,
     "metadata": {},
     "output_type": "execute_result"
    }
   ],
   "source": [
    "#4- RECONNAISSANCE : écrire une fonction \"classer\" qui renvoie la classe obtenue \n",
    "# par maximum de vraisemblance sur les lois gaussiennes estimées (modèle de chaque classe) \n",
    "# sur l'observation fournie en entrée :\n",
    "\n",
    "\n",
    "def classer(obs, m_aa, c_aa, m_uu, c_uu, m_ii, c_ii):\n",
    "    logL = []\n",
    "    \n",
    "    logL.append(np.log(np.linalg.det(c_aa)) + (obs - m_aa).T @ np.linalg.inv(cov_aa) @ (obs - m_aa))\n",
    "    logL.append(np.log(np.linalg.det(c_uu)) + (obs - m_uu).T @ np.linalg.inv(cov_uu) @ (obs - m_uu))\n",
    "    logL.append(np.log(np.linalg.det(c_ii)) + (obs - m_ii).T @ np.linalg.inv(cov_ii) @ (obs - m_ii))\n",
    "\n",
    "    return np.argmin(logL)\n",
    "\n",
    "def getClassName(pred):\n",
    "    if pred==0:\n",
    "        return 'aa'\n",
    "    if pred==1:\n",
    "        return 'uu'\n",
    "    if pred==2:\n",
    "        return 'ii'\n",
    "\n",
    "getClassName(classer(app_aa[0,:],mean_aa,cov_aa,mean_uu,cov_uu,mean_ii,cov_ii))\n",
    "\n",
    "# Exemple de résultat : \n",
    "# classe = classer(tst_aa[0,:], m_aa, c_aa, m_uu, c_uu, m_ii, c_ii)\n",
    "# => no_classe = 1"
   ]
  },
  {
   "cell_type": "code",
   "execution_count": 16,
   "metadata": {},
   "outputs": [],
   "source": [
    "#6- Définir la fonction tout_tester qui effectue tous les tests de classification \n",
    "def tout_tester(tst_aa,tst_ii,tst_uu,m_aa, c_aa, m_uu, c_uu, m_ii, c_ii):\n",
    "    pred = []\n",
    "    label = []\n",
    "\n",
    "    for i in range(tst_aa.shape[0]):\n",
    "        obs = tst_aa[i,:]\n",
    "        pred.append(classer(obs, m_aa, c_aa, m_uu, c_uu, m_ii, c_ii))\n",
    "        label.append(0)\n",
    "    \n",
    "    for i in range(tst_uu.shape[0]):\n",
    "        obs = tst_uu[i,:]\n",
    "        pred.append(classer(obs, m_aa, c_aa, m_uu, c_uu, m_ii, c_ii))\n",
    "        label.append(1)\n",
    "    \n",
    "    for i in range(tst_ii.shape[0]):\n",
    "        obs = tst_ii[i,:]\n",
    "        pred.append(classer(obs, m_aa, c_aa, m_uu, c_uu, m_ii, c_ii))\n",
    "        label.append(2)\n",
    "    \n",
    "    return pred, label"
   ]
  },
  {
   "cell_type": "code",
   "execution_count": 17,
   "metadata": {},
   "outputs": [
    {
     "name": "stdout",
     "output_type": "stream",
     "text": [
      "accuracy =  0.8127208480565371\n"
     ]
    },
    {
     "data": {
      "image/png": "[encoded data removed]",
      "text/plain": [
       "<Figure size 640x480 with 2 Axes>"
      ]
     },
     "metadata": {},
     "output_type": "display_data"
    }
   ],
   "source": [
    "#7- Réaliser les tests et afficher la matrice de confusion et le taux de bonne reconnaisance correspondant \n",
    "from sklearn.metrics import confusion_matrix, accuracy_score\n",
    "from sklearn.metrics import ConfusionMatrixDisplay\n",
    "\n",
    "pred, label = tout_tester(eval_aa,eval_ii,eval_uu,mean_aa,cov_aa,mean_uu,cov_uu,mean_ii,cov_ii)\n",
    "\n",
    "print('accuracy = ', accuracy_score(label,pred))\n",
    "\n",
    "cm = confusion_matrix(label, pred)\n",
    "\n",
    "cm_display = ConfusionMatrixDisplay(cm).plot()"
   ]
  }
 ],
 "metadata": {
  "kernelspec": {
   "display_name": "Python 3.10.6 64-bit",
   "language": "python",
   "name": "python3"
  },
  "language_info": {
   "codemirror_mode": {
    "name": "ipython",
    "version": 3
   },
   "file_extension": ".py",
   "mimetype": "text/x-python",
   "name": "python",
   "nbconvert_exporter": "python",
   "pygments_lexer": "ipython3",
   "version": "3.10.6"
  },
  "vscode": {
   "interpreter": {
    "hash": "d776b604cc3904292aea37f4daa2a46de34e87e5ec4d2ed68e9e515ab9feb7f7"
   }
  }
 },
 "nbformat": 4,
 "nbformat_minor": 5
}
