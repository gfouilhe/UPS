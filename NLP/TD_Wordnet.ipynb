{
  "nbformat": 4,
  "nbformat_minor": 0,
  "metadata": {
    "colab": {
      "provenance": []
    },
    "kernelspec": {
      "name": "python3",
      "display_name": "Python 3"
    }
  },
  "cells": [
    {
      "cell_type": "markdown",
      "metadata": {
        "id": "Y5enyRdM5to8"
      },
      "source": [
        "# **Exploration de WordNet**\n",
        "\n",
        " \n",
        "\n",
        "Nous allons utiliser l'implementation NLTK de Wordnet comme première approche. La documentation est dispo ici: https://www.nltk.org/howto/wordnet.html\n",
        "\n",
        "Charger WordNet"
      ]
    },
    {
      "cell_type": "code",
      "source": [
        "import nltk\n",
        "nltk.download('wordnet')\n",
        "from nltk.corpus import wordnet as wn\n",
        "\n"
      ],
      "metadata": {
        "colab": {
          "base_uri": "https://localhost:8080/"
        },
        "id": "2TYL6Z2AH82F",
        "outputId": "cf91d9f8-c3bf-40f4-f1bd-4de3bfeac136"
      },
      "execution_count": 3,
      "outputs": [
        {
          "output_type": "stream",
          "name": "stderr",
          "text": [
            "[nltk_data] Downloading package wordnet to /root/nltk_data...\n"
          ]
        }
      ]
    },
    {
      "cell_type": "markdown",
      "metadata": {
        "id": "2Z6Qy7hH2iEr"
      },
      "source": [
        "**Explorer les relations de synonymie**\n",
        "\n",
        "Essayons d'explorer les synonyms du mot \"motocar\". Ce dernier n'a qu'un seul sense, celui de \"car\", identifié par 'car.n.01', le premier sens du mot \"car. \n",
        "\n",
        "Synset('car.n.01') est appelé synset ou “synonym set,” une collection/liste de mots *synonymes*. Ici n désigne un nom."
      ]
    },
    {
      "cell_type": "code",
      "metadata": {
        "id": "Yqgicxmu2Z5X",
        "outputId": "4f485caf-9dc0-417f-ae94-a2a353892b88",
        "colab": {
          "base_uri": "https://localhost:8080/"
        }
      },
      "source": [
        "e=wn.synsets('motorcar')\n",
        "print(e)\n",
        "first_sense=e[0] # donne le premier sense du synset e\n",
        "first_sense.definition()\n",
        "dir(e[0])\n",
        "\n",
        "\n",
        "\n"
      ],
      "execution_count": 4,
      "outputs": [
        {
          "output_type": "stream",
          "name": "stdout",
          "text": [
            "[Synset('car.n.01')]\n"
          ]
        },
        {
          "output_type": "execute_result",
          "data": {
            "text/plain": [
              "['__class__',\n",
              " '__delattr__',\n",
              " '__dict__',\n",
              " '__dir__',\n",
              " '__doc__',\n",
              " '__eq__',\n",
              " '__format__',\n",
              " '__ge__',\n",
              " '__getattribute__',\n",
              " '__gt__',\n",
              " '__hash__',\n",
              " '__init__',\n",
              " '__init_subclass__',\n",
              " '__le__',\n",
              " '__lt__',\n",
              " '__module__',\n",
              " '__ne__',\n",
              " '__new__',\n",
              " '__reduce__',\n",
              " '__reduce_ex__',\n",
              " '__repr__',\n",
              " '__setattr__',\n",
              " '__sizeof__',\n",
              " '__slots__',\n",
              " '__str__',\n",
              " '__subclasshook__',\n",
              " '__weakref__',\n",
              " '_all_hypernyms',\n",
              " '_definition',\n",
              " '_doc',\n",
              " '_examples',\n",
              " '_frame_ids',\n",
              " '_hypernyms',\n",
              " '_instance_hypernyms',\n",
              " '_iter_hypernym_lists',\n",
              " '_lemma_names',\n",
              " '_lemma_pointers',\n",
              " '_lemmas',\n",
              " '_lexname',\n",
              " '_max_depth',\n",
              " '_min_depth',\n",
              " '_name',\n",
              " '_needs_root',\n",
              " '_offset',\n",
              " '_pointers',\n",
              " '_pos',\n",
              " '_related',\n",
              " '_shortest_hypernym_paths',\n",
              " '_wordnet_corpus_reader',\n",
              " 'acyclic_tree',\n",
              " 'also_sees',\n",
              " 'attributes',\n",
              " 'causes',\n",
              " 'closure',\n",
              " 'common_hypernyms',\n",
              " 'definition',\n",
              " 'entailments',\n",
              " 'examples',\n",
              " 'frame_ids',\n",
              " 'hypernym_distances',\n",
              " 'hypernym_paths',\n",
              " 'hypernyms',\n",
              " 'hyponyms',\n",
              " 'in_region_domains',\n",
              " 'in_topic_domains',\n",
              " 'in_usage_domains',\n",
              " 'instance_hypernyms',\n",
              " 'instance_hyponyms',\n",
              " 'jcn_similarity',\n",
              " 'lch_similarity',\n",
              " 'lemma_names',\n",
              " 'lemmas',\n",
              " 'lexname',\n",
              " 'lin_similarity',\n",
              " 'lowest_common_hypernyms',\n",
              " 'max_depth',\n",
              " 'member_holonyms',\n",
              " 'member_meronyms',\n",
              " 'min_depth',\n",
              " 'mst',\n",
              " 'name',\n",
              " 'offset',\n",
              " 'part_holonyms',\n",
              " 'part_meronyms',\n",
              " 'path_similarity',\n",
              " 'pos',\n",
              " 'region_domains',\n",
              " 'res_similarity',\n",
              " 'root_hypernyms',\n",
              " 'shortest_path_distance',\n",
              " 'similar_tos',\n",
              " 'substance_holonyms',\n",
              " 'substance_meronyms',\n",
              " 'topic_domains',\n",
              " 'tree',\n",
              " 'usage_domains',\n",
              " 'verb_groups',\n",
              " 'wup_similarity']"
            ]
          },
          "metadata": {},
          "execution_count": 4
        }
      ]
    },
    {
      "cell_type": "markdown",
      "source": [
        "A l'aide des méthodes accessibles à partir de l'objet e[0] (i.e. dir(e[0]), retrouver:\n",
        "\n",
        "\n",
        "*   La défintion du premier sense (sens1) du mot \"motocar\" \n",
        "*   La liste des mots (lemmes) synonymes du sens1 du mot \"motocar\"\n",
        "*   Des phrases exemples qui illustrent un des senses du mot \"motocar\"\n",
        "\n"
      ],
      "metadata": {
        "id": "FqA5PAdbLKEp"
      }
    },
    {
      "cell_type": "code",
      "source": [
        "# répondre aux questions ici\n"
      ],
      "metadata": {
        "id": "lPJf_cUk83IA"
      },
      "execution_count": null,
      "outputs": []
    },
    {
      "cell_type": "markdown",
      "source": [
        "Le mot \"motocar\" a un seul sense. Essayons maintenant avec un mot polysémique, le mot \"car\""
      ],
      "metadata": {
        "id": "cnYTiUgAOYmR"
      }
    },
    {
      "cell_type": "code",
      "source": [
        "e=wn.synsets('car')\n",
        "print(e) #liste des senses du mot car\n",
        "i=1\n",
        "for s in e:\n",
        "  #print(s.relations())\n",
        "  #lemme=[i.lemmas() for i in e]\n",
        "  first_sense=s\n",
        "  print(\"sense \", i, s)\n",
        "  print(s.lemmas())\n",
        "  i=i+1"
      ],
      "metadata": {
        "colab": {
          "base_uri": "https://localhost:8080/"
        },
        "id": "qi52RKotOgfm",
        "outputId": "b14669f0-a426-462c-aaca-499b0d7ffe2d"
      },
      "execution_count": 5,
      "outputs": [
        {
          "output_type": "stream",
          "name": "stdout",
          "text": [
            "[Synset('car.n.01'), Synset('car.n.02'), Synset('car.n.03'), Synset('car.n.04'), Synset('cable_car.n.01')]\n",
            "sense  1 Synset('car.n.01')\n",
            "[Lemma('car.n.01.car'), Lemma('car.n.01.auto'), Lemma('car.n.01.automobile'), Lemma('car.n.01.machine'), Lemma('car.n.01.motorcar')]\n",
            "sense  2 Synset('car.n.02')\n",
            "[Lemma('car.n.02.car'), Lemma('car.n.02.railcar'), Lemma('car.n.02.railway_car'), Lemma('car.n.02.railroad_car')]\n",
            "sense  3 Synset('car.n.03')\n",
            "[Lemma('car.n.03.car'), Lemma('car.n.03.gondola')]\n",
            "sense  4 Synset('car.n.04')\n",
            "[Lemma('car.n.04.car'), Lemma('car.n.04.elevator_car')]\n",
            "sense  5 Synset('cable_car.n.01')\n",
            "[Lemma('cable_car.n.01.cable_car'), Lemma('cable_car.n.01.car')]\n"
          ]
        }
      ]
    },
    {
      "cell_type": "markdown",
      "source": [
        "**Explorer la hièrachie des relations ainsi que d'autres relations paradigmatiques**\n",
        "\n",
        "Explorer maintenant les relations d'hyperonymie et d'hyponymie des mots \"car\" et \"motocar\" (vous pouvez prendre d'autres mots). Vous pouvez explorer en parallèle les résultats sur la **démo** en ligne (http://wordnetweb.princeton.edu/perl/webwn?s=DEMO) \n",
        "\n"
      ],
      "metadata": {
        "id": "-gRNOZnRPKLg"
      }
    },
    {
      "cell_type": "code",
      "source": [
        "car_sense1=e[0]\n",
        "l=[i.lemmas() for i in car_sense1.hyponyms()]  #on explore ici les hyponymes du senses 1 du mot car\n",
        "print(l)\n",
        "\n",
        "# faire de même avec l'hyperonym\n",
        "l=[i.lemmas() for i in car_sense1.hypernyms()]  #on explore ici les hyperonymes du senses 1 du mot car\n",
        "print(l)"
      ],
      "metadata": {
        "colab": {
          "base_uri": "https://localhost:8080/"
        },
        "id": "FCz_HkA1PfQF",
        "outputId": "75f8f0b7-cb6d-46b6-e889-ee63af9d941a"
      },
      "execution_count": null,
      "outputs": [
        {
          "output_type": "stream",
          "name": "stdout",
          "text": [
            "[[Lemma('ambulance.n.01.ambulance')], [Lemma('beach_wagon.n.01.beach_wagon'), Lemma('beach_wagon.n.01.station_wagon'), Lemma('beach_wagon.n.01.wagon'), Lemma('beach_wagon.n.01.estate_car'), Lemma('beach_wagon.n.01.beach_waggon'), Lemma('beach_wagon.n.01.station_waggon'), Lemma('beach_wagon.n.01.waggon')], [Lemma('bus.n.04.bus'), Lemma('bus.n.04.jalopy'), Lemma('bus.n.04.heap')], [Lemma('cab.n.03.cab'), Lemma('cab.n.03.hack'), Lemma('cab.n.03.taxi'), Lemma('cab.n.03.taxicab')], [Lemma('compact.n.03.compact'), Lemma('compact.n.03.compact_car')], [Lemma('convertible.n.01.convertible')], [Lemma('coupe.n.01.coupe')], [Lemma('cruiser.n.01.cruiser'), Lemma('cruiser.n.01.police_cruiser'), Lemma('cruiser.n.01.patrol_car'), Lemma('cruiser.n.01.police_car'), Lemma('cruiser.n.01.prowl_car'), Lemma('cruiser.n.01.squad_car')], [Lemma('electric.n.01.electric'), Lemma('electric.n.01.electric_automobile'), Lemma('electric.n.01.electric_car')], [Lemma('gas_guzzler.n.01.gas_guzzler')], [Lemma('hardtop.n.01.hardtop')], [Lemma('hatchback.n.01.hatchback')], [Lemma('horseless_carriage.n.01.horseless_carriage')], [Lemma('hot_rod.n.01.hot_rod'), Lemma('hot_rod.n.01.hot-rod')], [Lemma('jeep.n.01.jeep'), Lemma('jeep.n.01.landrover')], [Lemma('limousine.n.01.limousine'), Lemma('limousine.n.01.limo')], [Lemma('loaner.n.02.loaner')], [Lemma('minicar.n.01.minicar')], [Lemma('minivan.n.01.minivan')], [Lemma('model_t.n.01.Model_T')], [Lemma('pace_car.n.01.pace_car')], [Lemma('racer.n.02.racer'), Lemma('racer.n.02.race_car'), Lemma('racer.n.02.racing_car')], [Lemma('roadster.n.01.roadster'), Lemma('roadster.n.01.runabout'), Lemma('roadster.n.01.two-seater')], [Lemma('sedan.n.01.sedan'), Lemma('sedan.n.01.saloon')], [Lemma('sport_utility.n.01.sport_utility'), Lemma('sport_utility.n.01.sport_utility_vehicle'), Lemma('sport_utility.n.01.S.U.V.'), Lemma('sport_utility.n.01.SUV')], [Lemma('sports_car.n.01.sports_car'), Lemma('sports_car.n.01.sport_car')], [Lemma('stanley_steamer.n.01.Stanley_Steamer')], [Lemma('stock_car.n.01.stock_car')], [Lemma('subcompact.n.01.subcompact'), Lemma('subcompact.n.01.subcompact_car')], [Lemma('touring_car.n.01.touring_car'), Lemma('touring_car.n.01.phaeton'), Lemma('touring_car.n.01.tourer')], [Lemma('used-car.n.01.used-car'), Lemma('used-car.n.01.secondhand_car')]]\n",
            "[[Lemma('motor_vehicle.n.01.motor_vehicle'), Lemma('motor_vehicle.n.01.automotive_vehicle')]]\n"
          ]
        }
      ]
    },
    {
      "cell_type": "markdown",
      "source": [
        "Explorer les autres relations, comme la méronymie, holonymie et l'antonymie"
      ],
      "metadata": {
        "id": "yZBDbAAAQJsJ"
      }
    },
    {
      "cell_type": "markdown",
      "source": [
        "**Explorer la similarité sémantique entre les synsets**\n",
        "\n",
        "Etant donnés deux synsets, l'objectif est de parcourir les liens les reliants à travers le réseau lexical.\n",
        "\n",
        "L'algorithme est le suivant : \n",
        "  * Each synset has one or more hypernym paths that link it to a root hypernym\n",
        "  * Two synsets linked to the same root may have several hypernyms\n",
        "in common. \n",
        "  * If two synsets share a very specific hypernym (one that\n",
        "is low down in the hypernym hierarchy) they must be closely related.\n",
        "\n",
        "Appliquons cette algorithme aux premiers senses des mots suivants (Vous pouvez aussi changer les mots)\n",
        "\n"
      ],
      "metadata": {
        "id": "whYnHLhcQy5F"
      }
    },
    {
      "cell_type": "code",
      "source": [
        "mouse = wn.synsets('mouse')[0]\n",
        "cat = wn.synsets('cat')[0]\n",
        "dog = wn.synsets('dog')[0]\n",
        "\n",
        "dog.lowest_common_hypernyms(cat)"
      ],
      "metadata": {
        "colab": {
          "base_uri": "https://localhost:8080/"
        },
        "id": "JeQubgR8D0Az",
        "outputId": "5bd0b5d6-faa7-4308-cf6d-7e44a3d413c9"
      },
      "execution_count": null,
      "outputs": [
        {
          "output_type": "execute_result",
          "data": {
            "text/plain": [
              "[Synset('carnivore.n.01')]"
            ]
          },
          "metadata": {},
          "execution_count": 65
        }
      ]
    },
    {
      "cell_type": "markdown",
      "source": [
        "Nous pouvons également qualtifier la similarité entre synsets, via la fonction path_similarity. Ici les chats sont plus proches des chiens que des souries !!"
      ],
      "metadata": {
        "id": "FMPnqdvQlemQ"
      }
    },
    {
      "cell_type": "code",
      "source": [
        "mouse.path_similarity(cat)"
      ],
      "metadata": {
        "colab": {
          "base_uri": "https://localhost:8080/"
        },
        "id": "tEyCe0Qmld2n",
        "outputId": "8349588e-83d5-4f66-ca41-6f7fde931e40"
      },
      "execution_count": null,
      "outputs": [
        {
          "output_type": "execute_result",
          "data": {
            "text/plain": [
              "0.16666666666666666"
            ]
          },
          "metadata": {},
          "execution_count": 66
        }
      ]
    },
    {
      "cell_type": "code",
      "source": [
        "dog.path_similarity(cat)"
      ],
      "metadata": {
        "colab": {
          "base_uri": "https://localhost:8080/"
        },
        "id": "JH2qzfyclw2v",
        "outputId": "9d983f8b-08d7-4734-b8f5-2be673cfcdfa"
      },
      "execution_count": null,
      "outputs": [
        {
          "output_type": "execute_result",
          "data": {
            "text/plain": [
              "0.2"
            ]
          },
          "metadata": {},
          "execution_count": 67
        }
      ]
    },
    {
      "cell_type": "markdown",
      "source": [
        "Explorer les autres mesures de similarité existantes entre synsets"
      ],
      "metadata": {
        "id": "bsXp9nhamaUd"
      }
    }
  ]
}