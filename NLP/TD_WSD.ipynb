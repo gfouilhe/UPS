{
  "nbformat": 4,
  "nbformat_minor": 0,
  "metadata": {
    "colab": {
      "provenance": []
    },
    "kernelspec": {
      "name": "python3",
      "display_name": "Python 3"
    }
  },
  "cells": [
    {
      "cell_type": "markdown",
      "metadata": {
        "id": "Y5enyRdM5to8"
      },
      "source": [
        "# **Exploration d'un algorithme simple de désambiguisation lexicale**\n",
        "\n",
        " \n",
        "\n",
        "Nous allons utiliser l'implementation NLTK de l'algorithme de Lesk vu en cours. La documentation est dispo ici: https://www.nltk.org/howto/wsd.html\n"
      ]
    },
    {
      "cell_type": "code",
      "source": [
        "import nltk\n",
        "nltk.download('omw-1.4')\n",
        "from nltk.corpus import wordnet as wn\n",
        "from nltk.wsd import lesk  #https://www.nltk.org/howto/wsd.html\n"
      ],
      "metadata": {
        "colab": {
          "base_uri": "https://localhost:8080/"
        },
        "id": "2TYL6Z2AH82F",
        "outputId": "ed96ffbc-a462-40ed-ab1d-2447341800ed"
      },
      "execution_count": 3,
      "outputs": [
        {
          "output_type": "stream",
          "name": "stderr",
          "text": [
            "[nltk_data] Downloading package omw-1.4 to /root/nltk_data...\n"
          ]
        }
      ]
    },
    {
      "cell_type": "code",
      "metadata": {
        "id": "Yqgicxmu2Z5X",
        "colab": {
          "base_uri": "https://localhost:8080/",
          "height": 36
        },
        "outputId": "60bec79f-bd55-4fad-a41b-463f6f3f1319"
      },
      "source": [
        "sent = 'people should be able to marry a person of their choice'.split()\n",
        "synset=lesk(sent, 'marry')\n",
        "synset.definition()\n",
        "\n",
        "\n"
      ],
      "execution_count": 4,
      "outputs": [
        {
          "output_type": "execute_result",
          "data": {
            "text/plain": [
              "'perform a marriage ceremony'"
            ],
            "application/vnd.google.colaboratory.intrinsic+json": {
              "type": "string"
            }
          },
          "metadata": {},
          "execution_count": 4
        }
      ]
    },
    {
      "cell_type": "markdown",
      "source": [
        "Testez à présent cet algorithme avec des phrases contenant des mots polysémiques, comme \"right\", etc. Afficher la défénition du sens désambiguisé qui correspond au mot dans la phrase\n",
        "\n"
      ],
      "metadata": {
        "id": "FqA5PAdbLKEp"
      }
    },
    {
      "cell_type": "code",
      "source": [
        "# répondre aux questions ici\n",
        "\n",
        "\n"
      ],
      "metadata": {
        "id": "lPJf_cUk83IA"
      },
      "execution_count": null,
      "outputs": []
    }
  ]
}