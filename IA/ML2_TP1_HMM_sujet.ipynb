{
  "cells": [
    {
      "cell_type": "code",
      "execution_count": 3,
      "metadata": {
        "id": "e-5PCllPW4Rl"
      },
      "outputs": [],
      "source": [
        "import torch\n",
        "import torch.nn as nn\n",
        "import torch.nn.functional as F"
      ]
    },
    {
      "cell_type": "markdown",
      "metadata": {
        "id": "pZ6kxI1QyxKo"
      },
      "source": [
        "Sujet HMM TP 1 "
      ]
    },
    {
      "cell_type": "markdown",
      "metadata": {
        "id": "sitR_4nPIjwS"
      },
      "source": [
        "# Chaînes de Markov cachées (*Hidden Markov Models*, HMM)\n",
        "\n",
        "On suppose que vous avez un ami qui habite dans un autre pays que vous. Chaque jous, cet ami joue au tennis ou bien bulle dans son canapé, en fonction de la météo.\n",
        "\n",
        "Cependant, vous n'avez pas accès à la météo de ce pays, vous avez accès uniquement à l'information de ce qu'a fait votre ami (tennis ou canapé). \n",
        "\n",
        "On parle **d'observations** à propos des actions tennis/canapé, et **d'états cachés** pour la météo (3 états cachés ici).\n",
        "\n",
        "\n",
        "Un **modèle de Markov caché** est un **modèle de séquence de symboles (mots, caractères, tags, phonèmes...) avec de l'information manquante associée à chaque symbole : son état**.\n",
        "\n",
        "Notez que **la chaîne de Markov est définie sur les états cachés, pas sur les observations.**\n",
        "\n",
        "Il s'agit d'un **modèle joint entre des symboles observables et leurs catégories latentes/cachées/inconnues**. \n",
        "\n",
        "Des hypothèses simplificatrices fortes sous-tendent les HMM : \n",
        "\n",
        "\n",
        "\n",
        "*   Dépendance de l'état présent à l'état précédent (1er ordre) uniquement\n",
        "*   Stationnarité : les transitions entre états ne dépendent pas du temps\n",
        "*   Indépendance statistique des observations entre elles\n",
        "\n",
        "\n"
      ]
    },
    {
      "cell_type": "markdown",
      "metadata": {
        "id": "pJt7rG7GIrLt"
      },
      "source": [
        "Dans ce TP, nous reprenons l'exemple du cours, illustré dans cette figure.\n",
        "\n",
        "\n",
        "<img src=\"https://www.irit.fr/~Thomas.Pellegrini/ens/M2ML2/cours2/exemple_HMM_meteo_correct.png\" alt=\"chaine Markov\" width=\"800\"/>\n"
      ]
    },
    {
      "cell_type": "markdown",
      "metadata": {
        "id": "mu8LvFbLeJqN"
      },
      "source": [
        "Nous noterons les observations *canapé* et *tennis* $O_0$  et $O_1$, respectivement.\n",
        "\n",
        "Arbitrairement nous attribuons un indice à chaque état : \n",
        "\n",
        "\n",
        "*   *Pluie* : 0\n",
        "*   *Nuageux* : 1\n",
        "*   *Soleil* : 2\n",
        "\n",
        "On utilise les notations suivantes : \n",
        "\n",
        "*   $S_i$, avec $i=0,1,2$ pour désigner l'un de ces trois états.\n",
        "*   $S^t$, avec $t$ entier positif pour désigner l'état dans lequel on se trouve à l'instant $t$.\n",
        "\n",
        "\n",
        "Cet exemple est une chaîne de Markov dite d'ordre 1, au sens où la probabilité d'être dans l'état $S^t$ ne dépend que de l'état précédent $S^{t-1}$.\n",
        "\n",
        "\n",
        "Elle serait d'ordre 2, si cette probabilité dépendait de $S^{t-1}$ et $S^{t-2}$."
      ]
    },
    {
      "cell_type": "markdown",
      "metadata": {
        "id": "qrfgtZ_pNa04"
      },
      "source": [
        "**Question** : donner la matrice de transition $A=[a_{ij}]$ de cet exemple. \n",
        "\n",
        "Les éléments de $A$ sont les probabilités conditionnelles de passer de l'état $S_j$ à l'état $S_i$ : $a_{ij}=P(S_i|S_j)$."
      ]
    },
    {
      "cell_type": "code",
      "execution_count": 4,
      "metadata": {
        "id": "iuinLZk-Na0-"
      },
      "outputs": [
        {
          "data": {
            "text/plain": [
              "tensor([[0.5000, 0.4000, 0.0000],\n",
              "        [0.3000, 0.2000, 0.3000],\n",
              "        [0.2000, 0.4000, 0.7000]])"
            ]
          },
          "execution_count": 4,
          "metadata": {},
          "output_type": "execute_result"
        }
      ],
      "source": [
        "A = torch.tensor([\n",
        "    [0.5,0.4,0.0],\n",
        "    [0.3,0.2,0.3],\n",
        "    [0.2,0.4,0.7]])\n",
        "A"
      ]
    },
    {
      "cell_type": "markdown",
      "metadata": {
        "id": "FGssuoch4LpZ"
      },
      "source": [
        "En plus de la matrice de transition (entre les états **cachés**), nous introduisons une deuxième matrice, la matrice des probabilités d'obervation que nous notons $B=[B_{ij}]$. \n",
        "\n",
        "Les éléments de $B$ sont les probabilités conditionnelles \"d'observer\" *tennis* ou *canapé*, en fonction d'un état caché $S_j$ : \n",
        "\n",
        "$B_{ij}=P(O_i|S_j)$\n",
        "\n",
        "Cette matrice s'appelle la **matrice d'émission**. Dans la figure, elle encode les probabilités des flêches rouges.\n",
        "\n",
        "**Question** : donner la matrice de transition $B=[a_{ij}]$ de cet exemple. \n"
      ]
    },
    {
      "cell_type": "code",
      "execution_count": 5,
      "metadata": {
        "id": "rg1Q8O9_ImiC"
      },
      "outputs": [
        {
          "data": {
            "text/plain": [
              "tensor([[0.9000, 0.6000, 0.2000],\n",
              "        [0.1000, 0.4000, 0.8000]])"
            ]
          },
          "execution_count": 5,
          "metadata": {},
          "output_type": "execute_result"
        }
      ],
      "source": [
        "B =torch.tensor([\n",
        "    [0.9,0.6,0.2],\n",
        "    [0.1,0.4,0.8]\n",
        "])\n",
        "B"
      ]
    },
    {
      "cell_type": "markdown",
      "metadata": {
        "id": "axlz_x1ooutF"
      },
      "source": [
        "Le HMM de notre exemple est entièrement caractérisé par $\\{A, B, \\boldsymbol \\pi\\}$. Regroupons tout dans cette cellule, en calculant les valeurs de $\\boldsymbol \\pi$, avec la méthode des valeurs propres par exemple."
      ]
    },
    {
      "cell_type": "code",
      "execution_count": 6,
      "metadata": {
        "id": "1AG4mc8zpI_U"
      },
      "outputs": [
        {
          "name": "stdout",
          "output_type": "stream",
          "text": [
            "OK !\n"
          ]
        }
      ],
      "source": [
        "A = torch.tensor([\n",
        "    [0.5,0.4,0.0],\n",
        "    [0.3,0.2,0.3],\n",
        "    [0.2,0.4,0.7]])\n",
        "\n",
        "B = torch.tensor([\n",
        "    [0.9,0.6,0.2],\n",
        "    [0.1,0.4,0.8]\n",
        "])\n",
        "\n",
        "L, V = torch.linalg.eig(A)\n",
        "pi0 = V[:,0]\n",
        "pi0 = pi0/torch.sum(pi0)\n",
        "pi0 = torch.real(pi0)\n",
        "\n",
        "if torch.allclose(pi0, torch.tensor([0.2182, 0.2727, 0.5091]), atol=1e-04):\n",
        "  print('OK !')\n",
        "else:\n",
        "  print('KO !')\n",
        "\n",
        "# ces deux dict seront utiles par la suite\n",
        "state2ind = {\"Pluie\": 0, \"Nuageux\": 1, \"Soleil\": 2}\n",
        "ind2state = {0: \"Pluie\", 1: \"Nuageux\", 2: \"Soleil\"}\n",
        "\n",
        "obs2ind = {\"Canapé\": 0, \"Tennis\": 1}\n",
        "ind2obs = {0: \"Canapé\", 1: \"Tennis\"}"
      ]
    },
    {
      "cell_type": "markdown",
      "metadata": {
        "id": "sNqMIzAmoqdu"
      },
      "source": [
        "## **Question** : générer une séquence aléatoire d'observations de longueur 5\n",
        "\n",
        "Pour cela, utiliser la fonction ```torch.multinomial()```\n",
        "\n",
        "https://pytorch.org/docs/stable/generated/torch.multinomial.html"
      ]
    },
    {
      "cell_type": "markdown",
      "metadata": {
        "id": "_JNS17vIqWjC"
      },
      "source": [
        "### Stratégie 1 : transition -> émission -> transition -> émission etc"
      ]
    },
    {
      "cell_type": "code",
      "execution_count": 44,
      "metadata": {
        "id": "LVskR4d9gP9q"
      },
      "outputs": [
        {
          "name": "stdout",
          "output_type": "stream",
          "text": [
            "[1, 1, 0, 0, 1, 0]\n",
            "[2, 2, 1, 0, 1, 1]\n"
          ]
        }
      ],
      "source": [
        "N=5 # taille de la séquence que l'on veut\n",
        "seq = [] # liste qui va contenir les observations générées en mots\n",
        "\n",
        "# initialisation\n",
        "current_state = torch.randint(3,(1,)).item()\n",
        "\n",
        "# si on veut conserver la suite d'états (optionnel), créer cette liste\n",
        "seq_states = [current_state]\n",
        "\n",
        "for i in range(N):\n",
        "  # émission\n",
        "  current_obs = torch.multinomial(B[:,current_state],1).item()\n",
        "  seq.append(current_obs)\n",
        "\n",
        "  # transition\n",
        "  current_state = torch.multinomial(A[:,current_state],1).item()\n",
        "  seq_states.append(current_state)\n",
        "  \n",
        "current_obs = torch.multinomial(B[:,current_state],1).item()\n",
        "seq.append(current_obs)\n",
        "print(seq)\n",
        "\n",
        "# optionnel\n",
        "print(seq_states)"
      ]
    },
    {
      "cell_type": "markdown",
      "metadata": {
        "id": "2wBLAaaPthJK"
      },
      "source": [
        "### Stratégie 2 (optionnel) : générer une séquence d'états cachés entière puis générer une séquence d'observations"
      ]
    },
    {
      "cell_type": "code",
      "execution_count": 54,
      "metadata": {
        "id": "mDajnMR0sV9t"
      },
      "outputs": [
        {
          "name": "stdout",
          "output_type": "stream",
          "text": [
            "[1, 1, 1, 1, 0, 1]\n",
            "[2, 2, 1, 1, 1, 1]\n"
          ]
        }
      ],
      "source": [
        "N=5 # taille de la séquence que l'on veut\n",
        "\n",
        "def gen_seq(N,A,B):\n",
        "  seq = [] # liste qui va contenir les observations générées en mots\n",
        "\n",
        "  # initialisation\n",
        "  current_state = torch.randint(3,(1,)).item()\n",
        "\n",
        "  # si on veut conserver la suite d'états (optionnel), créer cette liste\n",
        "  seq_states = [current_state]\n",
        "\n",
        "  for i in range(N):\n",
        "    # transition\n",
        "    current_state = torch.multinomial(A[:,current_state],1).item()\n",
        "    seq_states.append(current_state)\n",
        "\n",
        "\n",
        "  for i in range(N):\n",
        "    # émission\n",
        "    current_obs = torch.multinomial(B[:,seq_states[i]],1).item()\n",
        "    seq.append(current_obs)\n",
        "\n",
        "  current_obs = torch.multinomial(B[:,current_state],1).item()\n",
        "  seq.append(current_obs) \n",
        "  return seq,seq_states\n",
        "\n",
        "seq,seq_states = gen_seq(N,A,B)\n",
        "print(seq)\n",
        "\n",
        "# optionnel\n",
        "print(seq_states)"
      ]
    },
    {
      "cell_type": "markdown",
      "metadata": {
        "id": "awbCMvtptse0"
      },
      "source": [
        "## Probabilité d'une séquence d'observations données, lorsque la séquence d'états cachés associée est connue"
      ]
    },
    {
      "cell_type": "markdown",
      "metadata": {
        "id": "EEpLmx47vFnz"
      },
      "source": [
        "\n",
        "\\begin{equation}\n",
        "P(O^0, \\ldots, O^{T-1}, S^0, \\ldots, S^{T-1}) = \\boldsymbol \\pi(S^0) \\, P(O^0|S^0)\\,Π_1^{T-1}\\,\\,P(S^{t}|S^{t-1})\\,P(O^t|S^T)\n",
        "\\end{equation}"
      ]
    },
    {
      "cell_type": "markdown",
      "metadata": {
        "id": "4oxrez_jkHQZ"
      },
      "source": [
        "### Question "
      ]
    },
    {
      "cell_type": "markdown",
      "metadata": {
        "id": "hC7y0rHFkNzf"
      },
      "source": [
        "Reprendre le code de génération de séquence ci-dessus et compléter pour calculer la probabilité de la séquence générée."
      ]
    },
    {
      "cell_type": "code",
      "execution_count": 64,
      "metadata": {},
      "outputs": [
        {
          "name": "stdout",
          "output_type": "stream",
          "text": [
            "0.0004433734866324812\n"
          ]
        }
      ],
      "source": [
        "# seq,seq_states = gen_seq(N,A,B)\n",
        "seq,seq_states = [0,1,1,0,0],[2,2,1,0,1]\n",
        "P = pi0[seq_states[0]]*B[seq[0],seq_states[0]]\n",
        "\n",
        "for i in range(1,N):\n",
        "    previous_state = seq_states[i-1]\n",
        "    current_state = seq_states[i]\n",
        "    current_obs = seq[i]\n",
        "    P *= A[current_state,previous_state]*B[current_obs,current_state]\n",
        "\n",
        "print(P.item())"
      ]
    },
    {
      "cell_type": "markdown",
      "metadata": {
        "id": "Yr3T31pvAf7E"
      },
      "source": [
        "## Tutoriel HMM : le tutoriel \"Rabiner\" (1989)"
      ]
    },
    {
      "cell_type": "markdown",
      "metadata": {
        "id": "13Hk3_bmOEg5"
      },
      "source": [
        "\n",
        "*A Tutorial on Hidden Markov Models and Selected Applications in Speech Recognition* par Lawrence R. Rabiner, publié en 1989 dans Proc. of the IEEE.\n",
        "\n",
        "Une version est disponible ici : https://www.cs.ubc.ca/~murphyk/Bayes/rabiner.pdf\n",
        "\n",
        "Rabiner y décrit trois problèmes fondamentaux liés aux HMM :\n",
        "\n",
        "\n",
        "1.   **Évaluation**. Étant donnée une séquence d'observations $O = O^0, ..., O^{T-1}$, et un modèle HMM $\\lambda = \\{\\boldsymbol \\pi, A, B\\}$, comment peut-on calculer efficacement la probabilité $P(O|\\lambda)$ de la séquence $O$, étant donné le modèle ?\n",
        "\n",
        "2.   **Inférence ou décodage**. Étant donnée une séquence d'observations $O = O^0, ..., O^{T-1}$, et un modèle HMM $\\lambda = \\{\\boldsymbol \\pi, A, B\\}$, comment retrouver la séquence d'états $S = S^0, ..., S^{T-1}$ optimale pour expliquer la séquence d'observations $O$ ?\n",
        "\n",
        "3.   **Apprentissage**. comment ajuster les paramètres du modèle $\\lambda = \\{\\boldsymbol \\pi, A, B\\}$ pour maximiser la vraisemblance (likelihood) de données d'entraînement, c'est-à-dire maximiser $P(O|\\lambda)$.\n",
        " \n",
        "Ces trois problèmes font appel à des algorithmes très astucieux : \n",
        "\n",
        "1.   **Évaluation**. Algorithme *forward* (il existe aussi la version *backward*, utile pour le problème 3)\n",
        "2.   **Inférence ou décodage** : algorithme de *Viterbi* \n",
        "3.   **Apprentissage**. Deux situations possibles :\n",
        "\n",
        "      a.   Apprentissage supervisé : on a les séquences $O$ et $S$ correspondantes. Alors on utilise l'apprentissage par maximum de vraisemblance, qui donne des formules analytiques pour calculer $\\boldsymbol \\pi, A, B$ à partir des fréquences d'occurrences des observations et des états.\n",
        "      \n",
        "      b.   Apprentissage non-supervisé : on a des séquences $O$ mais pas $S$. Algorithme de type *Expectation-Maximization* (EM) appelé la méthode *Baum-Welch* dans le tutoriel.\n",
        "\n",
        "\n",
        "Les algorithmes *forward* et *Viterbi* sont des algorithmes de programmation dynamique, tout comme les algorithmes de distance de Levenshtein minimale, de recherche du plus court chemin de Dijkstra, etc. \n",
        "\n",
        "\n",
        "Dans ce TP, nous nous intéresserons seulement aux deux premiers problèmes de Rabiner, et coder les deux algorithmes *forward* et *Viterbi*. S'il reste du temps, il y a aussi en exercice le décodage *posterior*.\n",
        "\n"
      ]
    },
    {
      "cell_type": "markdown",
      "metadata": {
        "id": "eJJcF7PoOZOe"
      },
      "source": [
        "## Problème 1 : **Évaluation**, coder l'algorithme *forward*"
      ]
    },
    {
      "cell_type": "markdown",
      "metadata": {
        "id": "9B1Xa9MKOhxp"
      },
      "source": [
        "Étant donnée une séquence d'observations $O = O^0, ..., O^{T-1}$, et un modèle HMM $\\lambda = \\{\\boldsymbol \\pi, A, B\\}$, comment peut-on calculer efficacement la probabilité $P(O|\\lambda)$ de la séquence $O$, appelée vraisemblance ou *likelihood*, étant donné le modèle ?"
      ]
    },
    {
      "cell_type": "markdown",
      "metadata": {
        "id": "wJRbxniNR0Gt"
      },
      "source": [
        "### Approche 1 : force brute (pas de code à écrire)"
      ]
    },
    {
      "cell_type": "markdown",
      "metadata": {
        "id": "IFJYIXW1R-MF"
      },
      "source": [
        "Force brute : considérer toutes les séquences d'états valides, qui pourraient générer $O$ et sommer les probabilités correspondantes."
      ]
    },
    {
      "cell_type": "markdown",
      "metadata": {
        "id": "3fujBoqhqB5H"
      },
      "source": [
        "Considérons la séquence *Canapé -> Tennis*, lister tous les cas à envisager et les probabilités associées."
      ]
    },
    {
      "cell_type": "markdown",
      "metadata": {
        "id": "mvM0n10TqiWD"
      },
      "source": [
        "Il y a NxN cas soit ici 9 cas. Si on note U pour Pluie, N pour Nuageux et S pour Soleil, on doit calculer :\n",
        "\n",
        "<!-- \\begin{eqnarray}\n",
        "P(01, UU) &=& \\boldsymbol \\pi(U)P(0|U)& P(U|U)P(1|U)\\\\\n",
        "P(01, UN) &=& \\_\\_\\_\\_\\_\\_\\_\\_\\_\\_ & P(N|U)P(1|N)\\\\\n",
        "P(01, US) &=& \\_\\_\\_\\_\\_\\_\\_\\_\\_\\_ & P(S|U)\\,\\,P(1|S)\\\\\n",
        "P(01, NU) &=& \\boldsymbol \\pi(N)P(0|N)& P(U|N)P(1|U)\\\\\n",
        "P(01, NN) &=& \\_\\_\\_\\_\\_\\_\\_\\_\\_\\_ & P(N|N)P(1|N)\\\\\n",
        "P(01, NS) &=& \\_\\_\\_\\_\\_\\_\\_\\_\\_\\_ & P(S|N)\\,\\,P(1|S)\\\\\n",
        "P(01, SU) &=& \\boldsymbol \\pi(S)P(0|S)& P(U|S)P(1|U)\\\\\n",
        "P(01, SN) &=& \\_\\_\\_\\_\\_\\_\\_\\_\\_\\_ & P(N|S)P(1|N)\\\\\n",
        "P(01, SS) &=& \\_\\_\\_\\_\\_\\_\\_\\_\\_\\_ & P(S|S)\\,\\,P(1|S)\\\\\n",
        "\\end{eqnarray} -->\n",
        "\n",
        "\n",
        "\\begin{eqnarray}\n",
        "P(01, UU) &=& \\boldsymbol \\pi(U)P(0|U)& P(U|U)P(1|U)\\\\\n",
        "P(01, NU) &=& \\boldsymbol \\pi(N)P(0|N) & P(U|N)P(1|U)\\\\\n",
        "P(01, SU) &=& \\boldsymbol \\pi(S)P(0|S) & P(U|S)\\,\\,P(1|U)\\\\\n",
        "P(01, UN) &=& \\boldsymbol \\pi(U)P(0|U)& P(N|U)P(1|N)\\\\\n",
        "P(01, NN) &=& \\boldsymbol \\pi(N)P(0|N) & P(N|N)P(1|N)\\\\\n",
        "P(01, SN) &=& \\boldsymbol \\pi(S)P(0|S) & P(N|S)\\,\\,P(1|N)\\\\\n",
        "P(01, US) &=& \\boldsymbol \\pi(U)P(0|U)& P(S|U)P(1|S)\\\\\n",
        "P(01, NS) &=& \\boldsymbol \\pi(N)P(0|N) & P(S|N)P(1|S)\\\\\n",
        "P(01, SS) &=& \\boldsymbol \\pi(S)P(0|S) & P(S|S)\\,\\,P(1|S)\\\\\n",
        "\\end{eqnarray}\n",
        "\n",
        "On voit des redondances. Posons : \n",
        "\n",
        "\\begin{eqnarray}\n",
        "\\alpha_U &=& \\boldsymbol \\pi(U)P(0|U)\\\\\n",
        "\\alpha_N &=& \\boldsymbol \\pi(N)P(0|N)\\\\\n",
        "\\alpha_S &=& \\boldsymbol \\pi(S)P(0|S)\\\\\n",
        "\\end{eqnarray}\n",
        "\n",
        "On a :\n",
        "\n",
        "\\begin{eqnarray}\n",
        "P(01, UU) &=& \\alpha_U & P(U|U)P(1|U)\\\\\n",
        "P(01, NU) &=& \\alpha_N & P(U|N)P(1|U)\\\\\n",
        "P(01, SU) &=& \\alpha_S & P(U|S)\\,\\,P(1|U)\\\\\n",
        "P(01, UN) &=& \\alpha_U & P(N|U)P(1|N)\\\\\n",
        "P(01, NN) &=& \\alpha_N & P(N|N)P(1|N)\\\\\n",
        "P(01, SN) &=& \\alpha_S & P(N|S)\\,\\,P(1|N)\\\\\n",
        "P(01, US) &=& \\alpha_U & P(S|U)P(1|S)\\\\\n",
        "P(01, NS) &=& \\alpha_N & P(S|N)P(1|S)\\\\\n",
        "P(01, SS) &=& \\alpha_S & P(S|S)\\,\\,P(1|S)\\\\\n",
        "\\end{eqnarray}\n",
        "\n",
        "\n",
        "\n",
        "Faisons les calculs"
      ]
    },
    {
      "cell_type": "code",
      "execution_count": 65,
      "metadata": {
        "id": "Hfi0TuRmyCVr"
      },
      "outputs": [
        {
          "name": "stdout",
          "output_type": "stream",
          "text": [
            "tensor([0.1964, 0.1636, 0.1018])\n",
            "Probabilité d'observer Canapé -> Tennis : 0.206\n"
          ]
        }
      ],
      "source": [
        "alpha_canape = pi0 * B[0]\n",
        "alpha_U = alpha_canape[0]\n",
        "alpha_N = alpha_canape[1]\n",
        "alpha_S = alpha_canape[2]\n",
        "print(alpha_canape)\n",
        "\n",
        "p1 = alpha_U * A[0,0] * B[1, 0]\n",
        "p2 = alpha_N * A[0,1] * B[1, 0]\n",
        "p3 = alpha_S * A[0,2] * B[1, 0]\n",
        "\n",
        "p4 = alpha_U * A[1,0] * B[1, 1]\n",
        "p5 = alpha_N * A[1,1] * B[1, 1]\n",
        "p6 = alpha_S * A[1,2] * B[1, 1]\n",
        "\n",
        "p7 = alpha_U * A[2,0] * B[1, 2]\n",
        "p8 = alpha_N * A[2,1] * B[1, 2]\n",
        "p9 = alpha_S * A[2,2] * B[1, 2]\n",
        "\n",
        "p = p1 + p2 + p3 + p4 + p5 + p6 + p7 + p8 + p9\n",
        "print(\"Probabilité d'observer Canapé -> Tennis : {:.3f}\".format(p))"
      ]
    },
    {
      "cell_type": "markdown",
      "metadata": {
        "id": "B7mIcTpSqMwx"
      },
      "source": [
        "Bilan"
      ]
    },
    {
      "cell_type": "markdown",
      "metadata": {
        "id": "AT3vIOlJpx6e"
      },
      "source": [
        "\n",
        "Pour une séquence de longueur $T$ et $N$ états cachés, le nombre de multiplications à faire pour calculer cette probabilité est de l'ordre de $2TN^T$.\n",
        "\n",
        "Autrement dit, la complexité est $O(N^T)$, soit exponentielle par rapport au nombre d'états cachés.\n",
        "\n",
        "Il faut donc faire autrement..."
      ]
    },
    {
      "cell_type": "markdown",
      "metadata": {
        "id": "6KWuiIkDSY2l"
      },
      "source": [
        "### Approche 2 : l'algorithme forward (à vous de jouer)"
      ]
    },
    {
      "cell_type": "markdown",
      "metadata": {
        "id": "zMgAceZgv-bh"
      },
      "source": [
        "Si l'on énumère les séquences d'états possibles pour générer une séquence d'observation, on s'aperçoit qu'il y a beaucoup de calculs en commun, et donc redondants.\n",
        "\n",
        "L'algorithme *forward* est un algorithme de programmation dynamique.\n",
        "\n",
        "Il utilise une variable intermédiaire appelée $\\alpha$ :\n",
        "\n",
        "$\\alpha^t(S_i)$ est la probabilité jointe de la séquence partielle d'observations $O^0, \\ldots, O^t$ tout en étant dans l'état $S_i$ à l'instant $t$ : \n",
        "\n",
        "\\begin{equation}\n",
        "\\alpha^t(S_i) = P(O^0, \\ldots, O^t, S^t=S_i)\n",
        "\\end{equation}\n",
        "\n",
        "L'algorithme *forward* est le suivant : \n",
        "\n",
        "\n",
        "\n",
        "*   Initialisation\n",
        "\n",
        "   *   Pour tous les états $i=0\\ldots N-1$, poser :\n",
        "      \\begin{equation}\n",
        "        \\alpha^0(S_i) = \\boldsymbol \\pi_i P(O^0|S_i)\n",
        "      \\end{equation}\n",
        "\n",
        "      À noter que $P(O^0|S_i)$ est un élément de la matrice d'émission $B$. \n",
        "\n",
        "*   Récurrence/induction\n",
        "\n",
        "    *   Pour les itérations suivantes, d'indices $t=1\\ldots T-1 $, et pour les $N$ états $i=0\\ldots N-1$, calculer :\n",
        "\n",
        "\\begin{equation}\n",
        "    \\alpha^t(S_i) = \\sum_{j=0}^{N-1} \\alpha^{t-1}(S_j)\\,P(S_i|S_j)\\,P(O^t|S_i)\\\\ \n",
        "  = P(O^t|S_i) \\sum_{j=0}^{N-1} \\alpha^{t-1}(S_j)\\,P(S_i|S_j)\n",
        "\\end{equation}\n",
        "\n",
        "*   Terminaison\n",
        "\n",
        "    *   On obtient finalement la probabilité de la séquence complète : \n",
        "\n",
        "        \\begin{equation}\n",
        "          P(O) = \\sum_{j=0}^{N-1} \\alpha^{T-1}(S_j) \n",
        "        \\end{equation}\n",
        "\n",
        "\n",
        "\n"
      ]
    },
    {
      "cell_type": "markdown",
      "metadata": {
        "id": "OgwO2cmjvxKJ"
      },
      "source": [
        "<img src=\"https://www.irit.fr/~Thomas.Pellegrini/ens/M2ML2/cours2/forward.png\" alt=\"forward\" width=\"300\"/>\n",
        "\n",
        "\n",
        "\n"
      ]
    },
    {
      "cell_type": "markdown",
      "metadata": {
        "id": "VZrTNWiERSlB"
      },
      "source": [
        "#### Coder une première version \"naïve\", avec des boucles *for* imbriquées pour l'étape d'induction.\n",
        "\n",
        "Votre fonction prend en entrée une séquence d'observations et les paramètres du modèle, et retourne la probabilité de la séquence."
      ]
    },
    {
      "cell_type": "code",
      "execution_count": 71,
      "metadata": {
        "id": "SSc9JmTVtq9T"
      },
      "outputs": [],
      "source": [
        "def forward_naif(seq, A, B, pi0):\n",
        "    # seq : sequence d'observations, liste d'entiers\n",
        "    # A : matrice de transition N x N où N nb d'états cahcés\n",
        "    # B : matrice d'émission O x N où O nb d'observations possibles différentes\n",
        "    # pi0: vecteur distribution stationnaire des N états cachés\n",
        "\n",
        "    T = len(seq) # longueur de la seq \n",
        "    N = A.size(0) # nb d'états cachés\n",
        "\n",
        "    # initialisation\n",
        "    alpha = torch.zeros(N,) \n",
        "    for i in range(N):\n",
        "        alpha[i] = pi0[i]*B[seq[0],i]\n",
        "    \n",
        "    # induction\n",
        "    for t in range(1,T):  \n",
        "        alpha_prev = torch.clone(alpha)\n",
        "        for i in range(N):\n",
        "            sum = 0\n",
        "            for j in range(N):\n",
        "                sum+= alpha_prev[j]*A[i,j]\n",
        "            alpha[i] = B[seq[t],i]*sum\n",
        "    # terminaison\n",
        "    res = 0\n",
        "    for j in range(N):\n",
        "        res+=alpha[j]\n",
        "    return res"
      ]
    },
    {
      "cell_type": "markdown",
      "metadata": {
        "id": "yZtoEuR4hqD5"
      },
      "source": [
        "Tester votre fonction :"
      ]
    },
    {
      "cell_type": "code",
      "execution_count": 72,
      "metadata": {
        "id": "Q61HLiPpiJJf"
      },
      "outputs": [
        {
          "name": "stdout",
          "output_type": "stream",
          "text": [
            "Canapé -> Tennis\n",
            "Probabilité : 0.206\n",
            "OK !\n"
          ]
        }
      ],
      "source": [
        "seq_obs = [0,1]\n",
        "seq_obs_mots = [ind2obs[i] for i in seq_obs]\n",
        "\n",
        "p = forward_naif(seq_obs, A, B, pi0)\n",
        "print(\" -> \".join(seq_obs_mots))\n",
        "print(\"Probabilité : {:.3f}\".format(p))\n",
        "\n",
        "if torch.isclose(p, torch.tensor(0.206), atol=1e-03):\n",
        "  print('OK !')\n",
        "else:\n",
        "  print('KO !')"
      ]
    },
    {
      "cell_type": "markdown",
      "metadata": {
        "id": "1agTiQBkRhNJ"
      },
      "source": [
        "#### Amélioration\n",
        "\n",
        "Dans l'étape d'induction, ne garder que la boucle sur les éléments de la séquence et remplacer les autres boucles imbriquées par un produit matriciel."
      ]
    },
    {
      "cell_type": "code",
      "execution_count": 87,
      "metadata": {
        "id": "76FqasaglPvT"
      },
      "outputs": [],
      "source": [
        "def forward(seq, A, B, pi0):\n",
        "    # seq : sequence d'observations, liste d'entiers\n",
        "    # A : matrice de transition N x N où N nb d'états cahcés\n",
        "    # B : matrice d'émission O x N où O nb d'observations possibles différentes\n",
        "    # pi0: vecteur distribution stationnaire des N états cachés\n",
        "\n",
        "    T = len(seq) # longueur de la seq \n",
        "    N = A.size(0) # nb d'états cachés\n",
        "\n",
        "    # initialisation\n",
        "    alpha = torch.zeros(N,) \n",
        "    for i in range(N):\n",
        "        alpha[i] = pi0[i]*B[seq[0],i]\n",
        "\n",
        "    # induction\n",
        "    for t in range(1,T):\n",
        "        alpha = B[seq[t],:] * torch.matmul(A,alpha)\n",
        "        \n",
        "    # terminaison\n",
        "    res = 0\n",
        "    for j in range(N):\n",
        "        res+=alpha[j]\n",
        "    return res\n",
        "\n"
      ]
    },
    {
      "cell_type": "markdown",
      "metadata": {
        "id": "YYNsIei9_IrH"
      },
      "source": [
        "Tester votre fonction"
      ]
    },
    {
      "cell_type": "code",
      "execution_count": 88,
      "metadata": {
        "id": "_s6td6obCrs1"
      },
      "outputs": [
        {
          "name": "stdout",
          "output_type": "stream",
          "text": [
            "Canapé -> Tennis\n",
            "Probabilité : 0.206\n",
            "OK !\n"
          ]
        }
      ],
      "source": [
        "seq_obs = [0,1]\n",
        "seq_obs_mots = [ind2obs[i] for i in seq_obs]\n",
        "\n",
        "p = forward(seq_obs, A, B, pi0)\n",
        "print(\" -> \".join(seq_obs_mots))\n",
        "print(\"Probabilité : {:.3f}\".format(p))\n",
        "\n",
        "if torch.isclose(p, torch.tensor(0.206), atol=1e-03):\n",
        "  print('OK !')\n",
        "else:\n",
        "  print('KO !')"
      ]
    },
    {
      "cell_type": "markdown",
      "metadata": {
        "id": "T0F-bQ-6_NND"
      },
      "source": [
        "Tester votre fonction sur une séquence plus longue"
      ]
    },
    {
      "cell_type": "code",
      "execution_count": 89,
      "metadata": {
        "id": "KkeUcnTb_Pnl"
      },
      "outputs": [
        {
          "name": "stdout",
          "output_type": "stream",
          "text": [
            "Canapé -> Tennis -> Tennis -> Tennis -> Canapé -> Canapé\n",
            "Probabilité : 0.014\n",
            "OK !\n"
          ]
        }
      ],
      "source": [
        "seq_obs = [0,1,1,1,0,0]\n",
        "\n",
        "seq_obs_mots = [ind2obs[i] for i in seq_obs]\n",
        "\n",
        "p = forward(seq_obs, A, B, pi0)\n",
        "print(\" -> \".join(seq_obs_mots))\n",
        "print(\"Probabilité : {:.3f}\".format(p))\n",
        "\n",
        "if torch.isclose(p, torch.tensor(0.014), atol=1e-03):\n",
        "  print('OK !')\n",
        "else:\n",
        "  print('KO !')\n"
      ]
    },
    {
      "cell_type": "markdown",
      "metadata": {
        "id": "njkoBwPXAW7t"
      },
      "source": [
        "**Question** : pourquoi est-ce que la probabilité de cette séquence est plus petite que celle de la séquence précédente ?"
      ]
    },
    {
      "cell_type": "markdown",
      "metadata": {},
      "source": [
        "Plus une séquence est longue, plus elle est spécifique et donc moins elle a de chances de survenir."
      ]
    },
    {
      "cell_type": "markdown",
      "metadata": {
        "id": "ztU05ieEWJ_B"
      },
      "source": [
        "La complexité de cet algorithme est $O(N^2T)$, bien mieux que $O(N^T)$ !!"
      ]
    },
    {
      "cell_type": "markdown",
      "metadata": {
        "id": "S34zYU5szeFn"
      },
      "source": [
        "## Problème 2 : **Inférence ou décodage**"
      ]
    },
    {
      "cell_type": "markdown",
      "metadata": {
        "id": "IO_OYF1tobMW"
      },
      "source": [
        "### Exemple tennis ou canap'?\n",
        "\n",
        "Nous souhaitons écrire un algorithme qui remplisse le tableau suivant avec les scores de chaque case, ainsi que, dans une deuxième temps, l'état d'où l'on vient à l'instant d'avant, pour obtenir la séquence d'états optimale.\n",
        "\n",
        "En effet, ce qui nous intéresse dans le décodage, c'est d'obtenir la séquence de prédictions des états cachés."
      ]
    },
    {
      "cell_type": "markdown",
      "metadata": {
        "id": "NXTrkMHypocL"
      },
      "source": [
        "<img src=\"https://www.irit.fr/~Thomas.Pellegrini/ens/M2ML2/cours2/viterbi_meteo.png\" alt=\"viterbi\" width=\"800\"/>"
      ]
    },
    {
      "cell_type": "markdown",
      "metadata": {
        "id": "GkzIDZ7SpjXL"
      },
      "source": [
        "### Exemple de cas d'usage : en traitement de données textuelles (*NLP* pour *Natural Language Processing*), trouver les tags Part-Of-Speech des mots d'une phrase (*POS tagging*) : "
      ]
    },
    {
      "cell_type": "markdown",
      "metadata": {
        "id": "VFmZE09FpsqC"
      },
      "source": [
        "<img src=\"https://www.irit.fr/~Thomas.Pellegrini/ens/M2ML2/cours2/problem2_exemple_POS_tagging.png\" alt=\"viterbi\" width=\"800\"/>\n",
        "\n",
        "4000 séquences d'états possibles sur ce petit exemple !\n",
        "\n",
        "(Image de Noah Smith)"
      ]
    },
    {
      "cell_type": "markdown",
      "metadata": {
        "id": "6CN-7wJopvqB"
      },
      "source": [
        "### Formulation"
      ]
    },
    {
      "cell_type": "markdown",
      "metadata": {
        "id": "i6ZPtLPez5ES"
      },
      "source": [
        "Étant donnée une séquence d'observations $O = O^0, ..., O^{T-1}$, et un modèle HMM $\\lambda = \\{\\boldsymbol \\pi, A, B\\}$, comment retrouver la séquence d'états $S = S^0, ..., S^{T-1}$ optimale pour expliquer la séquence d'observations $O$ ?\n",
        "\n",
        "\n",
        "Nous pourrions vouloir simplement choisir l'état le plus vraisemblable à chaque temps $t$, indépendamment des états précédents ou suivants : selon $P(S^t=S_i|O)$. Ce serait très efficace, mais cela peut donner des séquences non-valides, si par exemple il y a des probabilités de transition nulles dans le modèle.\n",
        "\n",
        "L'algorithme de référence est l'algorithme Viterbi, qui est un algorithme de programmation dynamique.\n",
        "\n"
      ]
    },
    {
      "cell_type": "markdown",
      "metadata": {
        "id": "e3m9Qr5391CZ"
      },
      "source": [
        "### Viterbi (scores seulement)"
      ]
    },
    {
      "cell_type": "markdown",
      "metadata": {
        "id": "DpdRf3im95Mq"
      },
      "source": [
        "Nous allons calculer à chaque temps $t$, le meilleur score (plus grande vraisemblance) d'un unique meilleur chemin, qui rend compte des $t$ premières observations, et qui aboutit à l'état $S_i$ au temps $t$. Dans le tutoriel Rabiner, ce score est noté par la lettre grecque delta : \n",
        "\n",
        "\\begin{equation}\n",
        "\\delta^t(S_i) = \\max_{S^0, S^1, \\ldots, S^{t-1}} P(S^0, O^0, S^1, O^1, \\ldots, S^t=S_i, O^t)\n",
        "\\end{equation}\n",
        "\n",
        "\n",
        "*   Initialisation\n",
        "\n",
        "   *   Pour tous les états $i=0\\ldots N-1$, poser :\n",
        "      \\begin{equation}\n",
        "        \\delta^0(S_i) = \\boldsymbol \\pi_i P(O^0|S_i)\n",
        "      \\end{equation}\n",
        "\n",
        "      À noter que $P(O^0|S_i)$ est un élément de la matrice d'émission $B$. \n",
        "\n",
        "*   Récurrence/induction\n",
        "\n",
        "    *   Pour les itérations suivantes, d'indices $t=1\\ldots T-1 $, et pour les $N$ états $i=0\\ldots N-1$, calculer :\n",
        "\n",
        "      \\begin{align*}\n",
        "          \\delta^t(S_i) &=& \\max_{j=0\\ldots N-1} \\delta^{t-1}(S_j)\\,P(S_i|S_j)\\,P(O^t|S_i)\\\\ \n",
        "           &=& P(O^t|S_i) \\max_{j=0\\ldots N-1} \\delta^{t-1}(S_j)\\,P(S_i|S_j)\n",
        "      \\end{align*}\n",
        "\n",
        "*   Terminaison\n",
        "\n",
        "    *   On obtient finalement le score de la séquence la plus vraisemblable des états : \n",
        "\n",
        "        \\begin{equation}\n",
        "          \\text{score}^{T-1} = P(S^*|O) = \\max_{j=0\\ldots N-1} \\delta^{T-1}(S_j) \n",
        "        \\end{equation}\n",
        "\n"
      ]
    },
    {
      "cell_type": "markdown",
      "metadata": {
        "id": "llTmUGlrvEi5"
      },
      "source": [
        "#### Exemple POS tagging"
      ]
    },
    {
      "cell_type": "markdown",
      "metadata": {
        "id": "Awv1ymRBvJfb"
      },
      "source": [
        "<img src=\"https://www.irit.fr/~Thomas.Pellegrini/ens/M2ML2/cours2/viterbi_example_POS_scores.png\" alt=\"viterbi POs example\" width=\"800\"/>\n",
        "\n",
        "\n",
        "(Image de Noah Smith)"
      ]
    },
    {
      "cell_type": "markdown",
      "metadata": {
        "id": "FQWvKt7qoeU1"
      },
      "source": [
        "#### Code **Exercice** \n",
        "\n",
        "Votre fonction prend en entrée une séquence d'observations et les paramètres du modèle, et retourne le score de la séquence."
      ]
    },
    {
      "cell_type": "code",
      "execution_count": null,
      "metadata": {
        "id": "rMYKVyJhmIGv"
      },
      "outputs": [],
      "source": [
        "def viterbi_score(seq, A, B, pi0):\n",
        "    # seq : sequence d'observations, liste d'entiers\n",
        "    # A : matrice de transition N x N où N nb d'états cahcés\n",
        "    # B : matrice d'émission O x N où O nb d'observations possibles différentes\n",
        "    # pi0: vecteur distribution stationnaire des N états cachés\n",
        "\n",
        "    T = len(seq) # longueur de la seq \n",
        "    N = A.size(0) # nb d'états cachés\n",
        "\n",
        "    # initialisation\n",
        "    delta = torch.zeros(N,) \n",
        "    for i in range(N):\n",
        "        delta[i] = pi0[i]*B[seq[0],i]\n",
        "\n",
        "    # induction\n",
        "    for t in range(1,T):  \n",
        "        delta_prev = torch.clone(delta)\n",
        "        for i in range(N):\n",
        "            sum = 0\n",
        "            for j in range(N):\n",
        "                sum+= alpha_prev[j]*A[i,j]\n",
        "            alpha[i] = B[seq[t],i]*sum\n",
        "    # terminaison\n",
        "    res = 0\n",
        "    for j in range(N):\n",
        "        res+=alpha[j]\n",
        "    \n",
        "    return res"
      ]
    },
    {
      "cell_type": "code",
      "execution_count": null,
      "metadata": {
        "id": "UjMui-JHmOO6"
      },
      "outputs": [],
      "source": [
        "seq_obs = [0,1]\n",
        "seq_obs_mots = [ind2obs[i] for i in seq_obs]\n",
        "\n",
        "score = viterbi_score(seq_obs, A, B, pi0)\n",
        "print(\" -> \".join(seq_obs_mots))\n",
        "print(\"Score Viterbi : {:.3f}\".format(score))\n",
        "\n",
        "if torch.isclose(score, torch.tensor(0.057), atol=1e-03):\n",
        "  print('OK !')\n",
        "else:\n",
        "  print('KO !')"
      ]
    },
    {
      "cell_type": "markdown",
      "metadata": {
        "id": "oGa39Goou4_B"
      },
      "source": [
        "#### **Question : est-ce qu'on n'a pas fait la même chose déjà avec l'algorithme *forward* ?**"
      ]
    },
    {
      "cell_type": "markdown",
      "metadata": {
        "id": "cvVBzb7Au68N"
      },
      "source": [
        "<img src=\"https://www.irit.fr/~Thomas.Pellegrini/ens/M2ML2/cours2/diff_forward_viterbi.png\" alt=\"chaine Markov\" width=\"500\"/>\n"
      ]
    },
    {
      "cell_type": "markdown",
      "metadata": {
        "id": "B4qDh4o_vKz5"
      },
      "source": [
        "### Viterbi (scores et séquence d'états)\n",
        "\n",
        "Viterbi nous donne le score du meilleur chemin, mais comment avoir les prédictions (la séquence d'états cachés) qui correspondent ?"
      ]
    },
    {
      "cell_type": "markdown",
      "metadata": {
        "id": "BV9GHXdXbAJK"
      },
      "source": [
        "Lors du calcul des scores par induction, à chaque temps $t$, il faut conserver l'identité de l'état dont le score est maximal. \n",
        "\n",
        "Ces états seront notés $\\text{bp}$ pour *backpointers* en anglais.\n",
        "\n",
        "Voici l'algo complété.\n",
        "\n",
        "*   Initialisation\n",
        "\n",
        "   *   Pour tous les états $i=0\\ldots N-1$, poser :\n",
        "      \\begin{equation}\n",
        "        \\delta^0(S_i) = \\boldsymbol \\pi_i P(O^0|S_i)\n",
        "      \\end{equation}\n",
        "\n",
        "      À noter que $P(O^0|S_i)$ est un élément de la matrice d'émission $B$. \n",
        "\n",
        "*   Récurrence/induction\n",
        "\n",
        "    *   Pour les itérations suivantes, d'indices $t=1\\ldots T-1 $, et pour les $N$ états $i=0\\ldots N-1$, calculer :\n",
        "\n",
        "      \\begin{eqnarray}\n",
        "          \\delta^t(S_i) &=& \\max_{j=0\\ldots N-1} \\delta^{t-1}(S_j)\\,P(S_i|S_j)\\,P(O^t|S_i)\\\\ \n",
        "           &=& P(O^t|S_i) \\max_{j=0\\ldots N-1} \\delta^{t-1}(S_j)\\,P(S_i|S_j)\n",
        "      \\end{eqnarray}\n",
        "    \n",
        "    * Déterminer quel est l'état au temps précédent qui a maximisé le score :   \n",
        "    \\begin{equation}\n",
        "        \\text{bp}^t(S_i) = \\text{arg max}_{j=0\\ldots N-1} \\delta^{t-1}(S_j)\\,P(S_i|S_j)\n",
        "    \\end{equation}\n",
        "\n",
        "*   Terminaison\n",
        "\n",
        "    *   On obtient finalement la probabilité de la séquence complète : \n",
        "\n",
        "        \\begin{equation}\n",
        "          P^*(O) = \\max_{j=0\\ldots N-1} \\delta^{T-1}(S_j) \n",
        "        \\end{equation}\n",
        "    \n",
        "    *   Et l'état optimal : \n",
        "    \\begin{equation}\n",
        "        \\text{bp}^{T-1}(S_i) = \\text{arg max}_{j=0\\ldots N-1} \\delta^{T-2}(S_j)\\,P(S_i|S_j)\n",
        "    \\end{equation}\n",
        "\n",
        "\n",
        "Puis pour récupérer le meilleur chemin d'états (*Backtracing*) :\n",
        "\n",
        "   *   On choisit l'état appelé $S^{T-1}_*$ qui maximise $\\delta^{T-1}$.\n",
        "   *   Puis à l'instant $t$ précédent prendre : $S^{T-2} = \\text{bp}^{T-1}(S^{T-1}_*)$.\n",
        "   *   De manière générale, $S^{t-1} = \\text{bp}^{t}(S^{t}_*)$.\n",
        "\n",
        "   "
      ]
    },
    {
      "cell_type": "markdown",
      "metadata": {
        "id": "mlcixAv9taUx"
      },
      "source": [
        "#### Exemple POS tagging\n"
      ]
    },
    {
      "cell_type": "markdown",
      "metadata": {
        "id": "e8NaSnlftmu1"
      },
      "source": [
        "<img src=\"https://www.irit.fr/~Thomas.Pellegrini/ens/M2ML2/cours2/viterbi_example_POS.png\" alt=\"viterbi POs example\" width=\"800\"/>\n",
        "\n",
        "\n",
        "(Image de Noah Smith)"
      ]
    },
    {
      "cell_type": "markdown",
      "metadata": {
        "id": "TVJLvlmsttbc"
      },
      "source": [
        "#### Code **exercice**"
      ]
    },
    {
      "cell_type": "markdown",
      "metadata": {
        "id": "LCgB2tZ0Gb6p"
      },
      "source": [
        "Pour le backtracing, vous utiliserez la fonction ```torch.argmax()``` : \n",
        "\n",
        "https://pytorch.org/docs/stable/generated/torch.argmax.html"
      ]
    },
    {
      "cell_type": "code",
      "execution_count": null,
      "metadata": {
        "id": "sJ-wobAwdVxv"
      },
      "outputs": [],
      "source": [
        "def viterbi_complet(seq, A, B, pi0):\n",
        "    # seq : sequence d'observations, liste d'entiers\n",
        "    # A : matrice de transition N x N où N nb d'états cahcés\n",
        "    # B : matrice d'émission O x N où O nb d'observations possibles différentes\n",
        "    # pi0: vecteur distribution stationnaire des N états cachés\n",
        "\n",
        "    T = len(seq) # longueur de la seq \n",
        "    N = A.size(0) # nb d'états cachés\n",
        "\n",
        "    # initialisation\n",
        "    ??\n",
        "    \n",
        "    # on ajoute ce tenseur pour stocker les meilleurs etats au long du scoring (backpointers)\n",
        "    bp = torch.zeros(T,N, dtype=int)\n",
        "\n",
        "    # induction\n",
        "    ??\n",
        "\n",
        "    # terminaison scoring\n",
        "    res = ??\n",
        "\n",
        "    # print(delta)\n",
        "    # print(bp)\n",
        "\n",
        "    # backtracing\n",
        "    viterbi_seq = [??.item()]\n",
        "    for t in range(??):\n",
        "        best_state = ??\n",
        "        viterbi_seq.append(??.item())\n",
        "\n",
        "    # on remet viterbi_seq dans l'ordre t=0...T-1 :\n",
        "    viterbi_seq = ??\n",
        "\n",
        "    return res, viterbi_seq"
      ]
    },
    {
      "cell_type": "code",
      "execution_count": null,
      "metadata": {
        "id": "wIhXba2dlrOC"
      },
      "outputs": [],
      "source": [
        "# seq_obs = [0,1,1,1,0,0]\n",
        "seq_obs = [0,1]\n",
        "seq_obs_mots = [ind2obs[i] for i in seq_obs]\n",
        "\n",
        "score, seq_etats = viterbi_complet(seq_obs, A, B, pi0)\n",
        "print(\" -> \".join(seq_obs_mots))\n",
        "print(\"Score : {:.5f}\".format(score))\n",
        "seq_etats_mots = [ind2state[i] for i in seq_etats]\n",
        "print(\"Séquence d'états Viterbi : \", \" -> \".join(seq_etats_mots))\n",
        "\n",
        "if seq_etats == [0,2]:\n",
        "  print('OK !')\n",
        "else:\n",
        "  print('KO !')\n"
      ]
    },
    {
      "cell_type": "code",
      "execution_count": null,
      "metadata": {
        "id": "aVZqEdIbfh62"
      },
      "outputs": [],
      "source": []
    }
  ],
  "metadata": {
    "colab": {
      "provenance": []
    },
    "kernelspec": {
      "display_name": "Python 3.9.12 ('base')",
      "language": "python",
      "name": "python3"
    },
    "language_info": {
      "codemirror_mode": {
        "name": "ipython",
        "version": 3
      },
      "file_extension": ".py",
      "mimetype": "text/x-python",
      "name": "python",
      "nbconvert_exporter": "python",
      "pygments_lexer": "ipython3",
      "version": "3.9.12"
    },
    "vscode": {
      "interpreter": {
        "hash": "b9fba199dabd3299a64e8bfd8a9514b410796f7398dd7939be30ed1e97414535"
      }
    }
  },
  "nbformat": 4,
  "nbformat_minor": 0
}
